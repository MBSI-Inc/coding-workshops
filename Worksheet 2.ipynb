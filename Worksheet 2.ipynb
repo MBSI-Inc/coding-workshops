{
 "cells": [
  {
   "cell_type": "markdown",
   "metadata": {
    "id": "ND1Y1kjql1Xx"
   },
   "source": [
    "# Workshop #2 Worksheet\n",
    "\n",
    "Welcome to Workshop #2! We're excited to share some fun and medically relevant problems for you to work through.   \n",
    "\n",
    "Unless otherwise indicated as exercises, the code chunks in this worksheet are illustrative examples which you should run.\n",
    "\n",
    "---"
   ]
  },
  {
   "cell_type": "markdown",
   "metadata": {
    "id": "mYyIawVE8O3t"
   },
   "source": [
    "# 1) Data types\n",
    "\n",
    "Different data types include:\n",
    "  * Strings\n",
    "  * Integers\n",
    "  * Floats\n",
    "  * Booleans\n",
    "\n",
    "We have already met strings. A *string* is basically a string of characters and are identified by quote marks around the characters. \n",
    "\n",
    "```python\n",
    "    \"This is a string\"\n",
    "    'This is also a string'\n",
    "```\n",
    ">💡\n",
    ">Note\n",
    "> both double- and single-apostrophes are acceptable; however, you need to be consistent in your use. For example, `\"xyz'` is not a valid string.\n",
    "\n",
    "*Integers* are whole numbers (for example, `5`, `21`, `-7`)\n",
    "\n",
    "*Floats* are decimal numbers (for example, `5.3`, `3.14`, `2.0`)\n",
    "\n",
    "There are only two possible *boolean* values: `True` and `False`.\n",
    "\n",
    "You can use the `type()` function to check the type of the information stored by a variable.\n",
    "\n",
    "\n",
    "\n",
    "**Example**: \n",
    "\n",
    "The `type()` function checks what data type `\"Anny\"` is."
   ]
  },
  {
   "cell_type": "code",
   "execution_count": null,
   "metadata": {
    "colab": {
     "base_uri": "https://localhost:8080/"
    },
    "executionInfo": {
     "elapsed": 2540,
     "status": "ok",
     "timestamp": 1618208621393,
     "user": {
      "displayName": "Ian Zhuo",
      "photoUrl": "",
      "userId": "09562546780153233237"
     },
     "user_tz": -480
    },
    "id": "QPvNn4WGQBdr",
    "outputId": "aa1512ef-3706-4862-d48c-015883edf707"
   },
   "outputs": [],
   "source": [
    "# Strings\n",
    "name = \"Anny\"\n",
    "print(name)\n",
    "print(type(name))"
   ]
  },
  {
   "cell_type": "markdown",
   "metadata": {
    "id": "AYIadJ9l-0Av"
   },
   "source": [
    "**Exercise 1:**  \n",
    "1.   **Use the type() function for Integers and Floats** \n",
    "\n",
    "**For the following exercises, type your code below the instructional comments!**\n"
   ]
  },
  {
   "cell_type": "code",
   "execution_count": null,
   "metadata": {
    "id": "fHyJJTUYEl4x"
   },
   "outputs": [],
   "source": [
    "# Exercise 1\n",
    "\n",
    "# Integers\n",
    "# Define an Integer variable\n",
    "\n",
    "# Print the variable\n",
    "\n",
    "# Print the type of the variable\n"
   ]
  },
  {
   "cell_type": "code",
   "execution_count": null,
   "metadata": {
    "id": "VyY97aYlE-gz"
   },
   "outputs": [],
   "source": [
    "# Floats\n",
    "# Define a Float variable\n",
    "\n",
    "# Print the variable\n",
    "\n",
    "# Print the type of the variable\n"
   ]
  },
  {
   "cell_type": "markdown",
   "metadata": {
    "id": "k2UGb--IPOQZ"
   },
   "source": [
    "---\n",
    "\n",
    "# 2) Operations: the maths ones, not the surgical ones\n",
    "\n",
    "**The classic quartet:**\n",
    "- Add: `+`\n",
    "- Subtract: `-`\n",
    "- Multiply: `*`\n",
    "- Divide: `/`\n",
    "\n",
    "An example with integers:\n",
    "\n"
   ]
  },
  {
   "cell_type": "code",
   "execution_count": null,
   "metadata": {
    "colab": {
     "base_uri": "https://localhost:8080/"
    },
    "executionInfo": {
     "elapsed": 1507,
     "status": "ok",
     "timestamp": 1618208648617,
     "user": {
      "displayName": "Ian Zhuo",
      "photoUrl": "",
      "userId": "09562546780153233237"
     },
     "user_tz": -480
    },
    "id": "KyvCzu5kQkF-",
    "outputId": "29b62dc4-aa2f-45cc-f216-9054ff6aface"
   },
   "outputs": [],
   "source": [
    "result = 2 + 2\n",
    "print('2 + 2 =', result, '. It does not equal 5.')"
   ]
  },
  {
   "cell_type": "markdown",
   "metadata": {
    "id": "-Tb9T9o_RUHd"
   },
   "source": [
    "The rule of **BODMAS** is alive and well in Python\n",
    "\n"
   ]
  },
  {
   "cell_type": "code",
   "execution_count": null,
   "metadata": {
    "colab": {
     "base_uri": "https://localhost:8080/"
    },
    "executionInfo": {
     "elapsed": 1645,
     "status": "ok",
     "timestamp": 1618208664446,
     "user": {
      "displayName": "Ian Zhuo",
      "photoUrl": "",
      "userId": "09562546780153233237"
     },
     "user_tz": -480
    },
    "id": "KE_fuckKRm2y",
    "outputId": "968a2d27-f053-47ea-881f-34772239057f"
   },
   "outputs": [],
   "source": [
    "print('2 x 3 + 4 =', 2 * 3 + 4)\n",
    "print('2 x (3 + 4) =', 2 * (3 + 4))"
   ]
  },
  {
   "cell_type": "markdown",
   "metadata": {
    "id": "kpDiQukdSpvn"
   },
   "source": [
    "Division will produce a **float** number, regardless of whether the input operands are integers or floats."
   ]
  },
  {
   "cell_type": "code",
   "execution_count": null,
   "metadata": {
    "colab": {
     "base_uri": "https://localhost:8080/"
    },
    "executionInfo": {
     "elapsed": 1588,
     "status": "ok",
     "timestamp": 1618208712529,
     "user": {
      "displayName": "Ian Zhuo",
      "photoUrl": "",
      "userId": "09562546780153233237"
     },
     "user_tz": -480
    },
    "id": "scqgOnc8TAhA",
    "outputId": "336c4365-7468-4198-a79a-0d40a11f283a"
   },
   "outputs": [],
   "source": [
    "numerator = 10\n",
    "denominator = 5\n",
    "\n",
    "print('Type of numerator and denominator: ', type(numerator), type(denominator))\n",
    "\n",
    "print('output =', numerator/denominator)\n",
    "print('Type of output: ', type(numerator/denominator))\n"
   ]
  },
  {
   "cell_type": "code",
   "execution_count": null,
   "metadata": {
    "colab": {
     "base_uri": "https://localhost:8080/"
    },
    "executionInfo": {
     "elapsed": 833,
     "status": "ok",
     "timestamp": 1618208757852,
     "user": {
      "displayName": "Ian Zhuo",
      "photoUrl": "",
      "userId": "09562546780153233237"
     },
     "user_tz": -480
    },
    "id": "yN7hpW_lYzZM",
    "outputId": "d9cc163c-4285-4306-ed91-5504789f64c0"
   },
   "outputs": [],
   "source": [
    "print(10/3)"
   ]
  },
  {
   "cell_type": "markdown",
   "metadata": {
    "id": "WulkPoAzVPIZ"
   },
   "source": [
    "We will now introduce the less popular sister of division - **floor division** `//`. This will give us a **whole number quotient** without the remainder. For instance, we note that $\\frac{17}{5}=3 \\text{ remainder } 2$. The floor division `17 // 5` will give us `3`. Try it now!\n"
   ]
  },
  {
   "cell_type": "code",
   "execution_count": null,
   "metadata": {
    "colab": {
     "base_uri": "https://localhost:8080/"
    },
    "executionInfo": {
     "elapsed": 780,
     "status": "ok",
     "timestamp": 1618208763987,
     "user": {
      "displayName": "Ian Zhuo",
      "photoUrl": "",
      "userId": "09562546780153233237"
     },
     "user_tz": -480
    },
    "id": "VZfMqPzgWm0s",
    "outputId": "120d005b-bb16-42b1-c96b-7c8970952b2b"
   },
   "outputs": [],
   "source": [
    "print(17 // 5)"
   ]
  },
  {
   "cell_type": "markdown",
   "metadata": {
    "id": "biO6bYroXiKO"
   },
   "source": [
    "The floor division operator has a boyfriend who makes her life whole - **modulo**, denoted in python as `%`. The modulo operator returns the remainder of a division. As with the above example $\\frac{17}{5}=3 \\text{ remainder } 2$, the modulo operation `17 % 5` will give us `2`."
   ]
  },
  {
   "cell_type": "code",
   "execution_count": null,
   "metadata": {
    "colab": {
     "base_uri": "https://localhost:8080/"
    },
    "executionInfo": {
     "elapsed": 783,
     "status": "ok",
     "timestamp": 1618208771708,
     "user": {
      "displayName": "Ian Zhuo",
      "photoUrl": "",
      "userId": "09562546780153233237"
     },
     "user_tz": -480
    },
    "id": "q8KTjMshXzXq",
    "outputId": "f68ddf41-c45b-41b0-ed2b-44ea1d8b343e"
   },
   "outputs": [],
   "source": [
    "print(17 % 5)"
   ]
  },
  {
   "cell_type": "markdown",
   "metadata": {
    "id": "zPZgBf2TZEK2"
   },
   "source": [
    "We use `**` to represent the **power** operator. Thus, to express $a^b$ in Python, we use `a ** b`.\n"
   ]
  },
  {
   "cell_type": "code",
   "execution_count": null,
   "metadata": {
    "colab": {
     "base_uri": "https://localhost:8080/"
    },
    "executionInfo": {
     "elapsed": 794,
     "status": "ok",
     "timestamp": 1618208777794,
     "user": {
      "displayName": "Ian Zhuo",
      "photoUrl": "",
      "userId": "09562546780153233237"
     },
     "user_tz": -480
    },
    "id": "CiMQk-QmZFed",
    "outputId": "8d2f2887-d69c-4029-cb36-d2d6fba526b7"
   },
   "outputs": [],
   "source": [
    "print(3 ** 2)"
   ]
  },
  {
   "cell_type": "markdown",
   "metadata": {
    "id": "aXiOGOgXUpXp"
   },
   "source": [
    "**Exercise 3:**   \n",
    "**Have a play around with your new math programming skills! Make some equations!**"
   ]
  },
  {
   "cell_type": "code",
   "execution_count": null,
   "metadata": {
    "executionInfo": {
     "elapsed": 877,
     "status": "ok",
     "timestamp": 1618208780431,
     "user": {
      "displayName": "Ian Zhuo",
      "photoUrl": "",
      "userId": "09562546780153233237"
     },
     "user_tz": -480
    },
    "id": "zFFUiOsMU-oa"
   },
   "outputs": [],
   "source": [
    "# Exercise 3\n",
    "### The freedom is yours ###\n"
   ]
  },
  {
   "cell_type": "markdown",
   "metadata": {
    "id": "B4G4LC4QmH9a"
   },
   "source": [
    "**Exercise 4:**  \n",
    "**Melbourne have been in lockdown for a certain number of days. Create a calculator that takes in a number of total days and outputs how many weeks and days that is equal to. For example, 58 days is equal to 8 weeks and 2 days. You may find the `//` and `%` operations helpful.**\n",
    "\n",
    "1.    **Create a variable called `totalDays` and assign to it some integer between $20$ and $100$.**\n",
    "2.    **Calculate `weeks` and `days` from `totalDays`. Print `weeks` and `days`.**\n"
   ]
  },
  {
   "cell_type": "code",
   "execution_count": null,
   "metadata": {
    "id": "wVmNRPYwDIMH"
   },
   "outputs": [],
   "source": [
    "# Exercise 4\n"
   ]
  },
  {
   "cell_type": "markdown",
   "metadata": {
    "id": "Y6j3bV2eGKjP"
   },
   "source": [
    "**Exercise 5A (Optional): Can you figure out why `a // b` returns identical results to `int(a / b)`? If you want, use the following code chunk to play around.**\n",
    "\n",
    "**Exercise 5B (Optional): Can you figure out why `a % b` returns identical results to `a - (a // b) * b`? If you want, use the following code chunk to play around.**"
   ]
  },
  {
   "cell_type": "code",
   "execution_count": null,
   "metadata": {
    "id": "7fWB_m1rGKOb"
   },
   "outputs": [],
   "source": [
    "# Exercise 5A and 5B"
   ]
  },
  {
   "cell_type": "markdown",
   "metadata": {
    "id": "6F3shUQia5Sn"
   },
   "source": [
    "### **Operations between different data types**\n",
    "\n",
    "It is possible to perform operations between different data types.\n",
    "\n",
    "As introduced in Workshop 1, operator mashing between **strings** and **integers** can be used to modify the string."
   ]
  },
  {
   "cell_type": "code",
   "execution_count": null,
   "metadata": {
    "colab": {
     "base_uri": "https://localhost:8080/"
    },
    "executionInfo": {
     "elapsed": 1068,
     "status": "ok",
     "timestamp": 1618208789669,
     "user": {
      "displayName": "Ian Zhuo",
      "photoUrl": "",
      "userId": "09562546780153233237"
     },
     "user_tz": -480
    },
    "id": "qKf6CcFIb4NP",
    "outputId": "dd0c74eb-3b69-4803-b4dc-b07ecd8cb332"
   },
   "outputs": [],
   "source": [
    "print('Oi'*3)"
   ]
  },
  {
   "cell_type": "markdown",
   "metadata": {
    "id": "jdAvvRTacHwt"
   },
   "source": [
    "Maths operations between **floats** and **integers** will create a new **float** number."
   ]
  },
  {
   "cell_type": "code",
   "execution_count": null,
   "metadata": {
    "colab": {
     "base_uri": "https://localhost:8080/"
    },
    "executionInfo": {
     "elapsed": 1024,
     "status": "ok",
     "timestamp": 1618208824171,
     "user": {
      "displayName": "Ian Zhuo",
      "photoUrl": "",
      "userId": "09562546780153233237"
     },
     "user_tz": -480
    },
    "id": "6P7XgUSNcV8f",
    "outputId": "a9e970e8-dcbd-4432-c1c8-0d6f99d09135"
   },
   "outputs": [],
   "source": [
    "the_int = 3\n",
    "the_float = 4.  # Note that the decimal point ensures that the 4 is a float\n",
    "\n",
    "print('Type of the integer 3: ', type(the_int))\n",
    "print('Type of the float 4. : ', type(the_float))\n",
    "\n",
    "# Mathematical food processor; don't worry about exactly what this means as it's just an illustrative example\n",
    "finished_product = (the_int + the_float) * the_float - the_int\n",
    "\n",
    "print(f'The result {finished_product} has the type {type(finished_product)}')"
   ]
  },
  {
   "cell_type": "markdown",
   "metadata": {
    "id": "saCo1gWWdbE0"
   },
   "source": [
    "### **Division by zero**\n",
    "\n",
    "If you still haven't tried that yet, we applaud your self-control.\n",
    "\n",
    "However, now is the time to enjoy a little *sin*."
   ]
  },
  {
   "cell_type": "code",
   "execution_count": null,
   "metadata": {
    "colab": {
     "base_uri": "https://localhost:8080/",
     "height": 191
    },
    "executionInfo": {
     "elapsed": 775,
     "status": "error",
     "timestamp": 1618208836551,
     "user": {
      "displayName": "Ian Zhuo",
      "photoUrl": "",
      "userId": "09562546780153233237"
     },
     "user_tz": -480
    },
    "id": "GadDCSOOeSq3",
    "outputId": "2af77cd7-188a-494f-98e2-6cf98e552fa9"
   },
   "outputs": [],
   "source": [
    "### THE RED PILL ###\n",
    "print(42/0)"
   ]
  },
  {
   "cell_type": "markdown",
   "metadata": {
    "id": "1NHDAkROeWz-"
   },
   "source": [
    "Against popular belief, you do not actually create a **black hole** when you divide by zero.\n",
    "\n",
    "Try to imbue yourself in the magic of the error message. It might be confronting at first, but when broken down, all it's trying to say is:\n",
    "- Location of the error (with a helpful arrow pointing towards the line of code);\n",
    "- What has caused the error.\n",
    "\n",
    "> 💡 Here is a cool guide on the common errors in python and how to debug them: \n",
    "https://pythonforbiologists.com/29-common-beginner-errors-on-one-page\n"
   ]
  },
  {
   "cell_type": "markdown",
   "metadata": {
    "id": "9xH6bHS3_5A8"
   },
   "source": [
    "---\n",
    "\n",
    "# 3) Updating Variables\n"
   ]
  },
  {
   "cell_type": "markdown",
   "metadata": {
    "id": "ihCxgmrsP3jB"
   },
   "source": [
    "As previously mentioned, we use **variables** to store data values. This is called **variable assignment**. The data could be anything - strings, integers, numbers, etc.\n",
    "\n",
    "Just imagine the `=` symbol being a virtual hand that places the data value on the **right hand side** into the box on the **left hand side**.\n",
    "```python\n",
    "  # Assigning variable - putting the value in the box\n",
    "  variable = 'value'\n",
    "```\n",
    "\"And what if the value of our data changes?\"\n",
    "\n",
    "We can **update** the value in our **variable** container at any stage by assigning a new value:\n",
    "```python\n",
    "  # Update the variable with our new value\n",
    "  variable = 'new value'\n",
    "```"
   ]
  },
  {
   "cell_type": "markdown",
   "metadata": {
    "id": "nWolZ900AQrf"
   },
   "source": [
    "**Example:**  \n",
    "You are submitting an assignment for one of your subjects. You are about to hand it in to the tutor, but you realise you have forgotten to add your student ID number!"
   ]
  },
  {
   "cell_type": "code",
   "execution_count": null,
   "metadata": {
    "colab": {
     "base_uri": "https://localhost:8080/"
    },
    "executionInfo": {
     "elapsed": 900,
     "status": "ok",
     "timestamp": 1618208845932,
     "user": {
      "displayName": "Ian Zhuo",
      "photoUrl": "",
      "userId": "09562546780153233237"
     },
     "user_tz": -480
    },
    "id": "tci-9-fsAP4V",
    "outputId": "9fc35afd-eded-4bff-8d01-0b5276698a71"
   },
   "outputs": [],
   "source": [
    "#Define student\n",
    "student = \"Anny\"\n",
    "\n",
    "#Now to update student\n",
    "student = \"Anny 1084112\"\n",
    "print(student)"
   ]
  },
  {
   "cell_type": "code",
   "execution_count": null,
   "metadata": {
    "id": "YQq94-XAAHDt"
   },
   "outputs": [],
   "source": [
    "#Trying it again with string concatenation \n",
    "student = \"Anny\"\n",
    "student = student + \" 1084112\" #concatenation yeah\n",
    "print(student)"
   ]
  },
  {
   "cell_type": "markdown",
   "metadata": {
    "id": "tXQ_lkUCC9fs"
   },
   "source": [
    "**Example:**  \n",
    "Playing around more with assignment and variables\n",
    "\n",
    "(Note that variables defined in early chunks carry over into later chunks) "
   ]
  },
  {
   "cell_type": "code",
   "execution_count": null,
   "metadata": {
    "colab": {
     "base_uri": "https://localhost:8080/"
    },
    "executionInfo": {
     "elapsed": 864,
     "status": "ok",
     "timestamp": 1618208849529,
     "user": {
      "displayName": "Ian Zhuo",
      "photoUrl": "",
      "userId": "09562546780153233237"
     },
     "user_tz": -480
    },
    "id": "dQcDOMPZDGJ5",
    "outputId": "83095718-9868-4b9f-ff6d-1d4ad9c64e85"
   },
   "outputs": [],
   "source": [
    "a = 1\n",
    "b = 1\n",
    "print(a)\n",
    "print(b)\n",
    "# Nothing too surprising here\n",
    "\n",
    "c = a + b\n",
    "print(c)\n",
    "# Yup, this makes sense too"
   ]
  },
  {
   "cell_type": "code",
   "execution_count": null,
   "metadata": {
    "id": "qpoZraQVXdWE"
   },
   "outputs": [],
   "source": [
    "a = b       # Making 'a' take the same value as the old 'b' (ie. 1)\n",
    "b = c       # Making 'b' take the same value as the old 'c' (ie. 2)\n",
    "c = a + b   # Making 'c' take the value of the sum of the new 'a' and 'b' (ie. 1+2)\n",
    "print(c)"
   ]
  },
  {
   "cell_type": "code",
   "execution_count": null,
   "metadata": {
    "id": "iEptBe_AXen2"
   },
   "outputs": [],
   "source": [
    "a = b       # Making 'a' take the same value as the old 'b' (ie. 2)\n",
    "b = c       # Making 'b' take the same value as the old 'c' (ie. 3)\n",
    "c = a + b   # Making 'c' take the value of the sum of the new 'a' and 'b' (ie. 2+3)\n",
    "print(c)\n",
    "# This is an identical code-chunk to the above, but note how the results change."
   ]
  },
  {
   "cell_type": "markdown",
   "metadata": {
    "id": "UPTTOgaKs4x5"
   },
   "source": [
    ">💡 **Note**\n",
    ">\n",
    ">`=` is **not** the equals symbol we all know and love in maths. It is strictly used for assigning values to a variable. To make this more explicit: \n",
    "*  In maths, $=$ is a symbol indicating logical equivalence: that is, $a=b$ is a statement that $a$ and $b$ are equivalent.\n",
    "*  In Python, `=` is a symbol telling Python to take action: that is, `a = b` tells Python to assign the value of `b` to the variable `a`. It is **not** a statement of equivalence."
   ]
  },
  {
   "cell_type": "markdown",
   "metadata": {
    "id": "REEZ_7jxNIMM"
   },
   "source": [
    "**Exercise 6:**  \n",
    "**The lab you are working in has a strict temperature control regime. In order to maintain optimal conditions for specimens, the lab temperature has to stay within $1^{o}C$ of $30^{o}C$. There is a thermostat that allows you to control the temperature. The current temperature is $31.1^{o}C$ and the current thermostat is set to $31^{o}C$. To prevent prolonged exposure to unfavourable conditions, you decide to turn down the thermostat to $30^{o}C$.**\n",
    "\n",
    "1. **Record the current thermostat temperature in a variable called `thermostat_temp`**\n",
    "2. **Print `thermostat_temp`**\n",
    "3. **Update `thermostat_temp` to $30^{o}C$**\n",
    "4. **Print `thermostat_temp`**\n",
    "5. **Check on your imaginary specimens to ensure they are healthy**\n",
    "\n",
    "***Extension***  \n",
    "**An hour later, the thermostat started malfunctioning causing the temperature to drop to $29^{o}C$. You decided that it is time to switch brands from *Panasonic* to *Toshiba*. To prevent confusion in the current brand, you decided to change the reporting system to include the brand of the thermostat.**\n",
    "\n",
    "1. **Create a new variable `brand` and store the current brand (Panasonic)**\n",
    "2. **Print the report in the format of 'Panasonic: 29' where Panasonic is defined by `brand` and 29 is defined by `thermostat_temp`**\n",
    "3. **Update the `brand` to Toshiba and `thermostat_temp` to 30**\n",
    "4. **Print the report again with the new values**\n",
    "\n",
    ">💡**Hint**\n",
    ">\n",
    "> The key to this is remembering the different ways of printing and formatting strings.\n",
    "\n",
    "Common ways include:\n",
    "* f'I am {name}', where name is a variable\n",
    "* 'I am ' + name"
   ]
  },
  {
   "cell_type": "code",
   "execution_count": null,
   "metadata": {
    "id": "csX_W7h1Oj1k"
   },
   "outputs": [],
   "source": [
    "# Exercise 6\n"
   ]
  },
  {
   "cell_type": "markdown",
   "metadata": {
    "id": "NYtQ28VmQ3uU"
   },
   "source": [
    "**Exercise 7:**  \n",
    "**You started dehydrating a hydrogel (polymeric material consisting of mostly water) which weighed 500g initially. Having been drying for an hour, it now weighs 250g.**\n",
    "\n",
    "1. **Express the old weight (in g) in a variable `gel_weight`**\n",
    "2. **Print `gel_weight`**\n",
    "3. **Update the variable `gel_weight` to the new weight**\n",
    "4. **Print the new `gel_weight`**\n"
   ]
  },
  {
   "cell_type": "code",
   "execution_count": null,
   "metadata": {
    "id": "WLAfQ5u8Q3P3"
   },
   "outputs": [],
   "source": [
    "# Exercise 7\n",
    "# Hydrogel weight\n"
   ]
  },
  {
   "cell_type": "markdown",
   "metadata": {
    "id": "lxBoTYvv_p7g"
   },
   "source": [
    "###**Incrementation**\n",
    "\n",
    "We can also update a variable with reference to its old value. For example, `x = x + 1` means to assign to `x` the value of \"the old value of `x` plus $1$\". In a sense, we've overwritten the variable `x` with the next number up. This sort of variable-updating process is known as \"incrementation\"."
   ]
  },
  {
   "cell_type": "code",
   "execution_count": null,
   "metadata": {
    "colab": {
     "base_uri": "https://localhost:8080/"
    },
    "executionInfo": {
     "elapsed": 869,
     "status": "ok",
     "timestamp": 1618208861995,
     "user": {
      "displayName": "Ian Zhuo",
      "photoUrl": "",
      "userId": "09562546780153233237"
     },
     "user_tz": -480
    },
    "id": "QacmnanPY5Kz",
    "outputId": "94532e22-2a30-41f2-8835-89201aded7cc"
   },
   "outputs": [],
   "source": [
    "x = 0       # defining the initial x to be 0\n",
    "print(x)\n",
    "\n",
    "x = x + 1   # overwriting x with 1\n",
    "print(x)\n",
    "\n",
    "x = x + 1   # overwriting x with 1+1\n",
    "print(x)\n",
    "\n",
    "x = x + 1   # overwriting x with 2+1\n",
    "print(x)\n",
    "\n",
    "x = x + 1   # overwriting x with 3+1\n",
    "print(x)"
   ]
  },
  {
   "cell_type": "markdown",
   "metadata": {
    "id": "yR4Z2N-HY5fg"
   },
   "source": [
    "If your inner mathematician is screaming in objection, we offer you a couple sacrilegious alternatives for **iteration**:\n",
    "```python\n",
    "    # Instead of doing this x = x + 5, do:\n",
    "    x += 5\n",
    "```\n",
    "It comes with all the possible flavours:\n",
    "- `x -= 5`  is identical to: `x = x - 5`\n",
    "- `x *= 5`  is identical to: `x = x * 5`\n",
    "- `x /= 5`  is identical to: `x = x / 5`\n",
    "- `x //= 5`  is identical to: `x = x // 5`\n",
    "- `x %= 5`  is identical to: `x = x % 5`\n",
    "- `x **= 5`  is identical to: `x = x ** 5`\n",
    "\n",
    "For example, the same code chunk from above can be succinctly written as"
   ]
  },
  {
   "cell_type": "code",
   "execution_count": null,
   "metadata": {
    "colab": {
     "base_uri": "https://localhost:8080/"
    },
    "executionInfo": {
     "elapsed": 1036,
     "status": "ok",
     "timestamp": 1618208872402,
     "user": {
      "displayName": "Ian Zhuo",
      "photoUrl": "",
      "userId": "09562546780153233237"
     },
     "user_tz": -480
    },
    "id": "8Kvrfgug_Ljj",
    "outputId": "340716d3-5ef1-4010-fe1f-9c70f58df4d6"
   },
   "outputs": [],
   "source": [
    "x = 0       # defining the initial x to be 0\n",
    "print(x)\n",
    "\n",
    "x += 1   # overwriting x with 1\n",
    "print(x)\n",
    "\n",
    "x += 1   # overwriting x with 1+1\n",
    "print(x)\n",
    "\n",
    "x += 1   # overwriting x with 2+1\n",
    "print(x)\n",
    "\n",
    "x += 1   # overwriting x with 3+1\n",
    "print(x)"
   ]
  },
  {
   "cell_type": "markdown",
   "metadata": {
    "id": "fL5sh_mGLdNb"
   },
   "source": [
    ">💡 **Note**:  \n",
    "The inbuilt method `range` achieves the same thing as the example above (without printing). These methods can help us **save time** by avoiding the need to re-write code that may be less efficient. As you will see in the next workshop, `range` can be useful when working with **loops**."
   ]
  },
  {
   "cell_type": "markdown",
   "metadata": {
    "id": "mH4H5I11_b94"
   },
   "source": [
    "Another example:"
   ]
  },
  {
   "cell_type": "code",
   "execution_count": null,
   "metadata": {
    "colab": {
     "base_uri": "https://localhost:8080/"
    },
    "executionInfo": {
     "elapsed": 820,
     "status": "ok",
     "timestamp": 1618208935020,
     "user": {
      "displayName": "Ian Zhuo",
      "photoUrl": "",
      "userId": "09562546780153233237"
     },
     "user_tz": -480
    },
    "id": "mxgRBVi6tDVL",
    "outputId": "59c46ce5-ee30-4fb9-ce56-6d1827d8daa1"
   },
   "outputs": [],
   "source": [
    "x = 3\n",
    "print('The original x:', x)\n",
    "\n",
    "x /= 5\n",
    "print('The new x given by x /= 5 is:', x)"
   ]
  },
  {
   "cell_type": "markdown",
   "metadata": {
    "id": "e0UPijkCF99b"
   },
   "source": [
    "> 💡 **Note**:  \n",
    "`+=` can be used to achieve string concatenation.  \n",
    "Run the code block below to see it in action."
   ]
  },
  {
   "cell_type": "code",
   "execution_count": null,
   "metadata": {
    "colab": {
     "base_uri": "https://localhost:8080/",
     "height": 245
    },
    "executionInfo": {
     "elapsed": 652,
     "status": "error",
     "timestamp": 1618208937737,
     "user": {
      "displayName": "Ian Zhuo",
      "photoUrl": "",
      "userId": "09562546780153233237"
     },
     "user_tz": -480
    },
    "id": "U9QFm1g5GPw3",
    "outputId": "2648a671-5554-4a44-bb8a-755dd003f39f"
   },
   "outputs": [],
   "source": [
    "#NEW\n",
    "#Example\n",
    "another_patientName = \"John\"\n",
    "print(f'The patient is {another_patientName}')\n",
    "\n",
    "new_patientName += \" Smith\"\n",
    "print(f'The patient is {another_patientName}')"
   ]
  },
  {
   "cell_type": "markdown",
   "metadata": {
    "id": "jT4aPc-bGjXB"
   },
   "source": [
    "Don't worry if this is confusing you. The main point is that there are usually **many ways** of achieving the same outcome from fancy one-liners to inefficient codes. However, the key thing to remember is that we should aim for **readability** especially when it comes to debugging your own code or collaborative work.  "
   ]
  },
  {
   "cell_type": "markdown",
   "metadata": {
    "id": "HVS-W81cU5z5"
   },
   "source": [
    "**Exercise 8:**  \n",
    "**You are spending the morning in the pathology lab and the pathologist introduces you to a mystical bacteria that grows in a multiplicative fashion, meaning that every hour, the number of bacteria on the dish is $5\\times$ what was present 1 hour ago. At Hour 0, the number of bacteria on the dish is 4.**\n",
    "1.   **Create a variable `time` and assign the value `0` to it**\n",
    "2.   **Create a variable `bacteria` and assign the value `4` to it**\n",
    "3.   **Print a statement about the current time and number of bacteria on the dish**\n",
    "4.   **Use `+=` to increase `time` by 1, and use `*=` to multiply `bacteria` by 5. Print the statement again.**\n",
    "5.   **Repeat Step 4 (ie. copy-paste Step 4's code) to work out how many bacteria are on the dish at 2, 3, 4 and 5 hours.**"
   ]
  },
  {
   "cell_type": "code",
   "execution_count": null,
   "metadata": {
    "id": "ueSCGojQWS-9"
   },
   "outputs": [],
   "source": [
    "# Exercise 8\n",
    "# Mystical Bacteria\n"
   ]
  },
  {
   "cell_type": "markdown",
   "metadata": {
    "id": "6n3WT8jGWaCS"
   },
   "source": [
    "**Exercise 9:**  \n",
    "**The half-life of a drug is the time taken for half the drug to be eliminated from the body. \n",
    "Ms Harris receives 100 units of Drug A at minute 0. The half-life of this drug is 20 minutes. Suppose the level of drug in Ms Harris' is recorded system once every 20 minutes. We want to know at what time will we record a drug level under 5 for the first time .**\n",
    "\n",
    "1.   **Create a variable `time` and assign the value `0` to it**\n",
    "2.   **Create a variable `drug` and assign the value `100` to it**\n",
    "3.   **Print a statement about the current time and drug level.**\n",
    "4.   **For the next recording, use `+=` to increase `time`, and use `/=` to update the drug level. Print the statement again.**\n",
    "5.   **Repeat Step 4 (ie. copy-paste Step 4's code) until the drug level falls below 5.**\n",
    "\n",
    ">💡 *Note*:  \n",
    "This exercise is pretty similar to the previous one. If you feel comfortable with the previous question, feel free to skip this one, although practicing can help reinforce your learning."
   ]
  },
  {
   "cell_type": "code",
   "execution_count": null,
   "metadata": {
    "id": "oALsMwZudEhu"
   },
   "outputs": [],
   "source": [
    "# Exercise 9\n",
    "# Half-life\n"
   ]
  },
  {
   "cell_type": "markdown",
   "metadata": {
    "id": "nRNNSj1GSWzc"
   },
   "source": [
    "A lot of copy-pasting happened in Exercises 8 and 9, and you might wonder whether there's an easier/smarter way to run repeated code. The answer is yes! The specific tool is called \"loops\", and we'll learn about loops in a future workshop. For now, we'll just do it the dumb way."
   ]
  },
  {
   "cell_type": "markdown",
   "metadata": {
    "id": "muynxkUzdhjB"
   },
   "source": [
    "**Exercise 10 (Optional):**  \n",
    "**During the first few hours of a night shift in an Emergency Department (ED), on average 3 patients discharge home and 1.5 patients are admitted every hour. At the start of the night shift at 6pm one evening, there are 13 patients in the ED.**\n",
    " \n",
    "\n",
    "1.    **Print the number of patients in the ED initially at 6pm.**\n",
    "2.    **Print how many patients we expect to be in the ED at 8pm, 10pm and midnight. Use incrementation like you did in Exercises 7 and 8 to solve this.**\n",
    "\n",
    ">💡 **Hint**:  \n",
    "If you are finding this challenging, start with defining the changes that occur during each hour. After that, the process is pretty much the same as Exercises 8 and 9.\n"
   ]
  },
  {
   "cell_type": "code",
   "execution_count": null,
   "metadata": {
    "id": "JOSdWcBU96tI"
   },
   "outputs": [],
   "source": [
    "# Exercise 10\n",
    "# ED Night Shift\n"
   ]
  },
  {
   "cell_type": "markdown",
   "metadata": {
    "id": "YCLnLkyEGXHx"
   },
   "source": [
    "---\n",
    "\n",
    "# 4) Data Type Conversions\n",
    "\n",
    "If appropriate, you can convert one data type to another data type. \n",
    "  * `str(x)` converts `x` to a string\n",
    "  * `int(x)` converts `x` to an integer\n",
    "  * `float(x)` converts `x` to a float\n",
    "  * `bool(x)` converts `x` to a boolean\n",
    "\n",
    "For example running \n",
    "  ```python\n",
    "  int(\"5\")\n",
    "  ```\n",
    "\n",
    "returns `5`, while running\n",
    "```python\n",
    "  str(5)\n",
    "```  \n",
    "returns `\"5\"`.\n",
    "\n",
    "We will discuss the concepts of boolean in the next workshop."
   ]
  },
  {
   "cell_type": "code",
   "execution_count": null,
   "metadata": {
    "colab": {
     "base_uri": "https://localhost:8080/"
    },
    "executionInfo": {
     "elapsed": 777,
     "status": "ok",
     "timestamp": 1618208997837,
     "user": {
      "displayName": "Ian Zhuo",
      "photoUrl": "",
      "userId": "09562546780153233237"
     },
     "user_tz": -480
    },
    "id": "c-Tjg1cTGZfM",
    "outputId": "ac13d747-0745-4f0c-aab1-c998e82105fb"
   },
   "outputs": [],
   "source": [
    "age = 65        # in years\n",
    "print(age)\n",
    "print(type(age))      # Integer type\n",
    "\n",
    "# Convert to string\n",
    "str_age = str(age)\n",
    "print(str_age)\n",
    "print(type(str_age))\n",
    "\n",
    "# Convert to float\n",
    "float_age = float(age)\n",
    "print(float_age)\n",
    "print(type(float_age))"
   ]
  },
  {
   "cell_type": "code",
   "execution_count": null,
   "metadata": {
    "colab": {
     "base_uri": "https://localhost:8080/"
    },
    "executionInfo": {
     "elapsed": 1061,
     "status": "ok",
     "timestamp": 1618209006874,
     "user": {
      "displayName": "Ian Zhuo",
      "photoUrl": "",
      "userId": "09562546780153233237"
     },
     "user_tz": -480
    },
    "id": "VaT0E4O4GzqK",
    "outputId": "5f2b9251-0e87-40f4-8893-d6fc96755b73"
   },
   "outputs": [],
   "source": [
    "height = 1.70     # in metres\n",
    "print(height)\n",
    "print(type(height))     # Float type\n",
    "\n",
    "# Convert to integer (note that the decimals are truncated)\n",
    "i_height = int(height)\n",
    "print(i_height)\n",
    "print(type(i_height))"
   ]
  },
  {
   "cell_type": "markdown",
   "metadata": {
    "id": "J9nMaRFrIjn0"
   },
   "source": [
    ">💡 **Note**:  \n",
    "`//` and `int` achieves the same thing. The key difference is that `//` returns a **float** while `int` returns an **integer**. (ie. `int(0.9999)` will be converted to `0`)"
   ]
  },
  {
   "cell_type": "markdown",
   "metadata": {
    "id": "v4PSMlcRLGjv"
   },
   "source": [
    "This becomes **particularly important** when you are retrieving user values from the **input** function, as the `input()` function always returns a string, even if the input contained digits."
   ]
  },
  {
   "cell_type": "markdown",
   "metadata": {
    "id": "RSVXeZ__oQZy"
   },
   "source": [
    "The code below is supposed to add two number that the user inputs, notice how this doesnt gives us an error but has a bug in it, can you find why?⬇️ "
   ]
  },
  {
   "cell_type": "code",
   "execution_count": null,
   "metadata": {
    "colab": {
     "base_uri": "https://localhost:8080/"
    },
    "executionInfo": {
     "elapsed": 7145,
     "status": "ok",
     "timestamp": 1618209036194,
     "user": {
      "displayName": "Ian Zhuo",
      "photoUrl": "",
      "userId": "09562546780153233237"
     },
     "user_tz": -480
    },
    "id": "IW1Up27EoSfw",
    "outputId": "7878b92a-72cd-47cb-b333-89f14c0c868e"
   },
   "outputs": [],
   "source": [
    "print(\"Enter two numbers to add\")\n",
    "number1 = input(\"Enter first number: \")\n",
    "number2 = input(\"Enter second number: \")\n",
    "\n",
    "print(number1, \"+\", number2, \"equals to\", number1+number2)"
   ]
  },
  {
   "cell_type": "markdown",
   "metadata": {
    "id": "-JbSO5d9odBN"
   },
   "source": [
    "> ⚠️ We have to convert the input to an integer in order to make mathematical operations."
   ]
  },
  {
   "cell_type": "code",
   "execution_count": null,
   "metadata": {
    "id": "DdXSVf7CLhGp"
   },
   "outputs": [],
   "source": [
    "should_be_a_number_but_actually_a_string = input('How many doctors does it take to change a lightbulb? (0 to 100): ')\n",
    "print('Input type: ', type(should_be_a_number_but_actually_a_string))\n",
    "\n",
    "# Convert the data into an integer to allow mathematical computation\n",
    "now_a_number = int(should_be_a_number_but_actually_a_string)\n",
    "print('Type after conversion: ', type(now_a_number))\n",
    "\n",
    "# Mathematicians here will be proud\n",
    "print('That would be', now_a_number // 2, 'pairs of doctors.')"
   ]
  },
  {
   "cell_type": "markdown",
   "metadata": {
    "id": "53ihU0HtIu1r"
   },
   "source": [
    ">💡 **Note**:\n",
    ">\n",
    "> Some data values cannot be converted to another data value. For instance, trying to convert `\"Text\"` to an integer using `int(\"Text\")` returns an error!"
   ]
  },
  {
   "cell_type": "code",
   "execution_count": null,
   "metadata": {
    "colab": {
     "base_uri": "https://localhost:8080/",
     "height": 191
    },
    "executionInfo": {
     "elapsed": 1089,
     "status": "error",
     "timestamp": 1618209064539,
     "user": {
      "displayName": "Ian Zhuo",
      "photoUrl": "",
      "userId": "09562546780153233237"
     },
     "user_tz": -480
    },
    "id": "TGDyZN89I0o4",
    "outputId": "6d6b4c2c-6b03-4612-aedc-8c2a023f6293"
   },
   "outputs": [],
   "source": [
    "# Some good ol' error messages\n",
    "int('troublemaker')"
   ]
  },
  {
   "cell_type": "markdown",
   "metadata": {
    "id": "69oP28bCjgLc"
   },
   "source": [
    "**Exercise 11:**  \n",
    " \n",
    "1.   **Run the following code chunk. You should see an error.**\n",
    "2.   **Using the feedback from the error message, make the necessary alteration to the code in the chunk below by using one of the following functions: `str()`, `int()` or `float()`**\n",
    "\n"
   ]
  },
  {
   "cell_type": "code",
   "execution_count": null,
   "metadata": {
    "colab": {
     "base_uri": "https://localhost:8080/",
     "height": 209
    },
    "executionInfo": {
     "elapsed": 1016,
     "status": "error",
     "timestamp": 1618209062893,
     "user": {
      "displayName": "Ian Zhuo",
      "photoUrl": "",
      "userId": "09562546780153233237"
     },
     "user_tz": -480
    },
    "id": "8OW5e3O8j1I9",
    "outputId": "42adaf28-d7a7-436a-cdff-8ff969392ad7"
   },
   "outputs": [],
   "source": [
    "# Exercise 11\n",
    "# Fixing it up\n",
    "x = \"I am aged \"\n",
    "a = 23\n",
    "print(x + a)"
   ]
  },
  {
   "cell_type": "markdown",
   "metadata": {
    "id": "Yxslzu-CxZjY"
   },
   "source": [
    "---\n",
    "\n",
    "# 5) Putting it all together\n",
    "\n",
    "\n",
    "Let's put what we've learnt all together and make some useful tools!\n",
    "\n",
    "We will first recap what we've learnt and apply it to some real problem sets!\n"
   ]
  },
  {
   "cell_type": "markdown",
   "metadata": {
    "id": "_QDJuFazy5vi"
   },
   "source": [
    "## Recap\n",
    "\n",
    "### **Exercise 12: What is the data type of an input variable?**  \n",
    "1.   **Create an input variable called `patientAge` that asks for the patient's age.**\n",
    "2.   **Print `patientAge`.**\n",
    "3.   **Print the data type of `patientAge`.** \n",
    "\n",
    "\n",
    "**Note how the data type of an input variable is always a string even if we input digits into `patientAge`!**"
   ]
  },
  {
   "cell_type": "code",
   "execution_count": null,
   "metadata": {
    "id": "t47g_XZC0_Qa"
   },
   "outputs": [],
   "source": [
    "# Exercise 12\n",
    "# patientAge\n"
   ]
  },
  {
   "cell_type": "markdown",
   "metadata": {
    "id": "kEfS9RBeKlpP"
   },
   "source": [
    "### **Exercise 13: Convert the data type of an input variable to an integer type** \n",
    "1.   **Create an input variable called `patientAge` that asks for the patient's age.**\n",
    "2.   **Print `patientAge`**\n",
    "3.   **Print the data type of `patientAge`** \n",
    "4.   **Convert `patientAge` to an integer using `int()`**\n",
    "5.   **Print the data type of `patientAge`**"
   ]
  },
  {
   "cell_type": "code",
   "execution_count": null,
   "metadata": {
    "id": "B3NNKYrBFNCv"
   },
   "outputs": [],
   "source": [
    "# Exercise 13\n",
    "# patientAge\n"
   ]
  },
  {
   "cell_type": "markdown",
   "metadata": {
    "id": "zrbfxULeXqgD"
   },
   "source": [
    "### **Exercise 14: BMI Calculator**  \n",
    "\n",
    "1.   **Create a height variable, assign your height (m) to it.**  \n",
    "2.   **Create a weight variable, assign your weight (kg) to it.** \n",
    "3.   **Create a BMI variable, assign it the mathematical formula of weight divided by height squared** ${BMI} = \\dfrac{weight}{height^{2}}$\n",
    "4.   **Write a print statement that says \"My BMI is (insert BMI here)\"**"
   ]
  },
  {
   "cell_type": "code",
   "execution_count": null,
   "metadata": {
    "id": "9VyU6YeoYZBW"
   },
   "outputs": [],
   "source": [
    "# Exercise 14\n",
    "# BMI Calculator\n"
   ]
  },
  {
   "cell_type": "markdown",
   "metadata": {
    "id": "hJn4S2ClvNJK"
   },
   "source": [
    "### **Exercise 15: BMI Calculator with inputs** \n",
    "1.   **Copy-paste your BMI Calculator from above.**\n",
    "2.   **Alter your code to ask for your input height and weight.**\n",
    "**Remember to convert your input variables into the appropriate data type!**\n",
    "\n"
   ]
  },
  {
   "cell_type": "code",
   "execution_count": null,
   "metadata": {
    "id": "KoiAgnIfv2GO"
   },
   "outputs": [],
   "source": [
    "# Exercise 15\n",
    "# BMI Calculator with inputs\n"
   ]
  },
  {
   "cell_type": "markdown",
   "metadata": {
    "id": "ehhfOETu7WkI"
   },
   "source": [
    "## Problem Sets"
   ]
  },
  {
   "cell_type": "markdown",
   "metadata": {
    "id": "BahubWVIo5HI"
   },
   "source": [
    "\n",
    "### **Exercise 16: millilitres to litres**\n",
    "\n",
    "Write a Python program that asks the user for one integer volume (a volume in millilitres), converts it to litres, and prints the result with L as the units (for \"litre\").\n",
    "\n",
    "Example:\n",
    "```python\n",
    "Enter volume in ml: 3000\n",
    "Volume in litres is: 3.0L\n",
    "```\n",
    "\n",
    ">💡 \n",
    "> **Hint**\n",
    ">\n",
    ">You should find a way to join the final number with the 'L' string before calling the print function so there is no space between them."
   ]
  },
  {
   "cell_type": "code",
   "execution_count": null,
   "metadata": {
    "executionInfo": {
     "elapsed": 844,
     "status": "ok",
     "timestamp": 1618209156534,
     "user": {
      "displayName": "Ian Zhuo",
      "photoUrl": "",
      "userId": "09562546780153233237"
     },
     "user_tz": -480
    },
    "id": "K49nZ66npMH9"
   },
   "outputs": [],
   "source": [
    "# Exercise 16\n",
    "# Millilitres to Litres\n"
   ]
  },
  {
   "cell_type": "markdown",
   "metadata": {
    "id": "PGc19PXdpbkT"
   },
   "source": [
    "\n",
    "### **Exercise 17: Kevin's Birthday**\n",
    "\n",
    "Kevin is a long term coma patient that you have been treating. He has lost track of time, and wonders whether it is his birthday yet. Luckily, he remembers exactly how many days have passed since he was born. To help Kevin, write a Python program that asks the user for the number of days since they were born, and returns their age in years, and the number of days until their next birthday.\n",
    "\n",
    "*Example*\n",
    "```python\n",
    "How many days have you lived? 3000\n",
    "You are 8 years young!\n",
    "You have 285 days until you get to have birthday cake.\n",
    "```\n",
    ">💡 **Leap Years**\n",
    ">\n",
    ">As cool as leap years are, for this exercise, you can assume that all years are made up of 365 days. Also assume that the input will always be a nice, discrete integer.\n",
    ">\n",
    ">Did you know that the oldest cat in the world lived to 38 years and 3 days old. She was called [Creme Puff](https://en.wikipedia.org/wiki/Creme_Puff_(cat)) and had a diet of bacon and eggs and coffee with cream, and was completely unperturbed by leap years. Oh my god, how Adorable!"
   ]
  },
  {
   "cell_type": "code",
   "execution_count": null,
   "metadata": {
    "id": "jS_4qpDBqM11"
   },
   "outputs": [],
   "source": [
    "# Exercise 17\n",
    "# Kevin's birthday"
   ]
  },
  {
   "cell_type": "markdown",
   "metadata": {
    "id": "KTwTHV4oqvhC"
   },
   "source": [
    "#### Excercise 17 - Extension\n",
    "Before Kevin went into a coma, he had lots of money on his bank account. Kevin knows that his interest compounded monthly at a rate of 4.5% p.a. Write a program that asks Kevin how much he had in his bank account, and for how long he stayed in a coma for (in days),and prints the amount of money he will have when he wakes up.\n",
    "\n",
    "You should assume non-empty, integer inputs for both answers, and assume there are exactly 31 days in every month according to this bank.\n",
    "\n",
    "Your program should behave as follows:\n",
    "\n",
    "```python\n",
    "How much money you had in your bank account, Mr Kevin? 10\n",
    "How many days were you in a coma for? 372\n",
    "After that time you will have: $10.459398250405895\n",
    "```\n",
    "\n",
    ">💡 **Compounded interest**\n",
    ">\n",
    "> The formula for compound interest is:\n",
    ">\n",
    "> $$P_{f} = P_{i} \\times (1 + \\frac{r}{12})^{n} $$\n",
    ">\n",
    ">where  $P_{f}$ is the final amount, $P_{i}$ is the initial amount, $r$ is the interest rate per annum, and $n$ is the number of accumulation periods (months for this problem) that have passed.\n",
    ">\n",
    ">For example, if kevin had $100 for 1 year and one month (13 months) at a rate of 4% per annum, the final amount would be:\n",
    ">\n",
    "> $$100 \\times (1 + \\frac{0.04}{12})^{13} \\approx 104.42$$"
   ]
  },
  {
   "cell_type": "code",
   "execution_count": null,
   "metadata": {
    "id": "YwDE_5MiuulP"
   },
   "outputs": [],
   "source": [
    "# Exercise 17 - Extension\n"
   ]
  },
  {
   "cell_type": "markdown",
   "metadata": {
    "id": "HOKaRYj2rhp6"
   },
   "source": [
    "### **Exercise 18: Fahenreit to Celcius**\n",
    "\n",
    "Anny is taking the temperature of a patient. Anny's hospital only has this thermometer from the US that gives the temperature in Fahenreit. She panicks, as the patient's temperature reads 100 degrees. Help Anny convert the temperature from Fahenreit to degrees Celcius.\n",
    "\n",
    "Comfirm that 100 degrees Fahrenheit maps to 37.7 degrees Celcius, and that 82 degrees Fahrenheit maps to a little under 28 degrees Celcius.\n",
    "\n",
    "> 💡 To convert from degrees Fahenreit to degrees Celcius, you must first subtract 32, then multiply by 5/9.\n",
    "\n",
    "\n",
    "\n",
    "Your program should behave as follows:\n",
    "```python\n",
    "Enter degrees F: 212\n",
    "In degrees C is: 100.0C\n",
    "```\n"
   ]
  },
  {
   "cell_type": "code",
   "execution_count": null,
   "metadata": {
    "id": "Ec9KryE8sHbe"
   },
   "outputs": [],
   "source": [
    "# Exercise 18: Fahenreit to Celcius\n"
   ]
  },
  {
   "cell_type": "markdown",
   "metadata": {
    "id": "rBjHKaUjUEBh"
   },
   "source": [
    "---\n",
    "\n",
    "# **mini-Project - Lindsay Brown**\n",
    "\n",
    "We now arrive at the finale for Workshop 2. We want you to apply all the coding knowledge you've learnt so far onto an open-ended mini-project that simulates a real-life application of coding in medicine. Your task is as follows:\n",
    "\n",
    "\n",
    "1.   You take a history from Lindsay Brown. Take the important details on history, store them in variables eg. `site`, `quality`, etc.\n",
    "2.   Create a variable called `summary`. Using f-strings, generate and assign to `summary` a patient summary (eg. in ISBAR format) that you can present to the Consultant. Print `summary`. For example, your `summary` variable might start like this:\n",
    "\n",
    "    ``summary = f\"I just spoke to {name}, a {age} year-old {gender} etc etc\"``\n",
    "\n",
    "3.   When setting up `summary`, it should be flexible enough that if the presenting history changes, `summary` will still generate a coherent summary for the new history.\n",
    "4.   There is no one right answer for this project, and don't be limited by the examples we've used. Be as creative as you like! \n",
    "\n",
    "[Link is here if the image does not display:](https://drive.google.com/uc?export=view&id=1W0Bn9Nh_zdtkEDO_occrmkV2dTrpE-Ux)\n",
    "\n",
    "![](https://drive.google.com/uc?export=view&id=1W0Bn9Nh_zdtkEDO_occrmkV2dTrpE-Ux)"
   ]
  },
  {
   "cell_type": "code",
   "execution_count": null,
   "metadata": {
    "id": "W8OmLntBaG7s"
   },
   "outputs": [],
   "source": [
    "#Lindsay Brown\n",
    "\n",
    "#Example code\n",
    "# staff_name = \"Dr Edmond\"\n",
    "# staff_position = \"intern\"\n",
    "# hospital = \"Western Health\"\n",
    "# pt_name = \"Lily Huang\"\n",
    "# pt_age = 10\n",
    "# pt_gender = \"girl\"\n",
    "# top_differential = \"Urinary Tract Infection\"\n",
    "# summary = f\"My name is {staff_name}, an {staff_position} at {hospital}. I am calling about {pt_name}, a {pt_age} year old {pt_gender} who presents with suspected {top_differential} ...\")\n",
    "# print(summary)\n",
    "\n",
    "#YOUR TURN! Give your code a cool title!\n",
    "\n",
    "#(Insert title here)\n",
    "\n"
   ]
  },
  {
   "cell_type": "markdown",
   "metadata": {
    "id": "F62AY76Y_pWg"
   },
   "source": [
    "# **CONGRATS FOR COMPLETING WORKSHOP 2!!**\n",
    "\n",
    "Please fill out [this feedback form](https://www.tinyurl.com/MDCodingWorkshopFeedback) to help us tailor the workshops for your needs!"
   ]
  }
 ],
 "metadata": {
  "colab": {
   "collapsed_sections": [
    "rBjHKaUjUEBh"
   ],
   "name": "worksheet #2 .ipynb",
   "provenance": []
  },
  "kernelspec": {
   "display_name": "Python 3",
   "language": "python",
   "name": "python3"
  },
  "language_info": {
   "codemirror_mode": {
    "name": "ipython",
    "version": 3
   },
   "file_extension": ".py",
   "mimetype": "text/x-python",
   "name": "python",
   "nbconvert_exporter": "python",
   "pygments_lexer": "ipython3",
   "version": "3.8.5"
  }
 },
 "nbformat": 4,
 "nbformat_minor": 4
}
