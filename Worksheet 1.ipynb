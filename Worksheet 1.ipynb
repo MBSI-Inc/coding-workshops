{
 "cells": [
  {
   "cell_type": "markdown",
   "metadata": {
    "colab_type": "text",
    "id": "ND1Y1kjql1Xx"
   },
   "source": [
    "# Workshop #1 Worksheet\n",
    "\n",
    "Welcome to the MBSI coding workshops! In this Jupyter Notebook, we'll be working through a number of exercises at your own pace. Please let your breakout room tutor know if you have any difficulties. Press Shift + Enter on your keyboard to move through the cells in this worksheet.\n",
    "\n",
    "---"
   ]
  },
  {
   "cell_type": "markdown",
   "metadata": {
    "colab_type": "text",
    "id": "CxZSTbUnAjBE"
   },
   "source": [
    " # The print function and strings\n",
    "\n",
    "The `print()` function basically \"prints\" a message into your output. For example, if you were to run\n",
    "\n",
    "    print(\"XYZ\")\n",
    "\n",
    "in Python, you will get the output \n",
    "\n",
    "    XYZ\n",
    "\n",
    "The message passed into the print function is called a *string*. A *string* is basically a sequence of characters and is identified by quote marks around the characters.\n",
    "\n",
    "    \"This is a string\"\n",
    "    'This is also a string'\n",
    "\n",
    "Note that both double- and single-apostrophes are acceptable; however, you need to be consistent in your use. For example, `\"xyz'` is not a valid string.\n",
    "\n",
    "**Exercise 0a: In the code chunk below, run the pre-existing code: `print(\"Hello, world!\")`. You can run the code by pressing Shift + Enter on your keyboard, or by pressing the play button on the top panel of this Jupyter Notebook.**"
   ]
  },
  {
   "cell_type": "code",
   "execution_count": null,
   "metadata": {
    "colab": {
     "base_uri": "https://localhost:8080/",
     "height": 34
    },
    "colab_type": "code",
    "executionInfo": {
     "elapsed": 2542,
     "status": "ok",
     "timestamp": 1598764203524,
     "user": {
      "displayName": "Allen Gu",
      "photoUrl": "",
      "userId": "11032189599469915856"
     },
     "user_tz": -600
    },
    "id": "YYi8oKEe8_lb",
    "outputId": "6bddaad6-261c-48e4-d40b-715266a30a63"
   },
   "outputs": [],
   "source": [
    "# Exercise 0a\n",
    "print(\"Hello, world!\")"
   ]
  },
  {
   "cell_type": "markdown",
   "metadata": {},
   "source": [
    "You should see the output `Hello, world!`. \n",
    "\n",
    "**Exercise 0b: Run the pre-existing code below. This should produce a `SyntaxError`, as there is an error in the syntax of the code. Identify the error and edit the code such that it produces the same output as above.**"
   ]
  },
  {
   "cell_type": "code",
   "execution_count": null,
   "metadata": {},
   "outputs": [],
   "source": [
    "# Exercise 0b\n",
    "print(\"Hello, world!')"
   ]
  },
  {
   "cell_type": "markdown",
   "metadata": {
    "colab_type": "text",
    "id": "Dgmp2I8K3sdI"
   },
   "source": [
    "\n",
    "**Exercise 1: In the code chunk below, write then run your own `print(\"Hello, world!\")`. The output should look identical to above.**"
   ]
  },
  {
   "cell_type": "code",
   "execution_count": null,
   "metadata": {
    "colab": {
     "base_uri": "https://localhost:8080/",
     "height": 34
    },
    "colab_type": "code",
    "executionInfo": {
     "elapsed": 2534,
     "status": "ok",
     "timestamp": 1598764203527,
     "user": {
      "displayName": "Allen Gu",
      "photoUrl": "",
      "userId": "11032189599469915856"
     },
     "user_tz": -600
    },
    "id": "PhB4G0Jv3ryK",
    "outputId": "c20807ce-60a9-48f9-8b05-d128d3a29534"
   },
   "outputs": [],
   "source": [
    "# Exercise 1\n",
    "# Write your code below this line.\n"
   ]
  },
  {
   "cell_type": "markdown",
   "metadata": {
    "colab_type": "text",
    "id": "9-M9VCd2nVJs"
   },
   "source": [
    "Congratulations! You have just written your very first Python program!\n",
    "\n",
    "Note that the hash symbol `#` indicate **comments**; Python ignores comments and doesn't run anything written on a line after a hash symbol `#`.\n",
    "\n",
    "---"
   ]
  },
  {
   "cell_type": "markdown",
   "metadata": {
    "colab_type": "text",
    "id": "tDr5fsnCqltF"
   },
   "source": [
    "# Printing multiple times\n",
    "\n",
    "If you want to print multiple lines of text (strings), you can just write multiple print functions. For instance,\n",
    "\n",
    "    print(\"Hello, world!\")\n",
    "    print(\"I'm a student from the University of Melbourne\")\n",
    "\n",
    "gives the output:\n",
    "\n",
    "    Hello, world!\n",
    "    I'm a student from the University of Melbourne\n",
    "\n",
    "**Exercise 2: In the code chunk below, write multiple print statements that print onto multiple lines. Any text will do.**"
   ]
  },
  {
   "cell_type": "code",
   "execution_count": null,
   "metadata": {
    "colab": {
     "base_uri": "https://localhost:8080/",
     "height": 68
    },
    "colab_type": "code",
    "executionInfo": {
     "elapsed": 1220,
     "status": "ok",
     "timestamp": 1598764223656,
     "user": {
      "displayName": "Allen Gu",
      "photoUrl": "",
      "userId": "11032189599469915856"
     },
     "user_tz": -600
    },
    "id": "P3wuFW2orEHz",
    "outputId": "89661ab8-74d0-4e09-9b95-d0153871b4e9"
   },
   "outputs": [],
   "source": [
    "# Exercise 2\n"
   ]
  },
  {
   "cell_type": "markdown",
   "metadata": {
    "colab_type": "text",
    "id": "HrkkstGXnw_Y"
   },
   "source": [
    "---\n",
    "# The newline character `\\n`\n",
    "\n",
    "The newline character `\\n` tells Python to start a new line when printing some text. For example, the following code:\n",
    "\n",
    "    print(\"Hello, world!\\nI'm a student from the University of Melbourne\")\n",
    "\n",
    "would produce an output that looks like:\n",
    "\n",
    "    Hello, world!\n",
    "    I'm a student from the University of Melbourne\n",
    "\n",
    "Note how this is identical to calling multiple print functions, but this time you only needed to call one print function.\n",
    "\n",
    "**Exercise 3: In the code chunk below, reproduce the same output from Exercise 2, this time using the newline chracter `\\n` and only one print function.**"
   ]
  },
  {
   "cell_type": "code",
   "execution_count": null,
   "metadata": {
    "colab": {
     "base_uri": "https://localhost:8080/",
     "height": 68
    },
    "colab_type": "code",
    "executionInfo": {
     "elapsed": 1412,
     "status": "ok",
     "timestamp": 1598764236368,
     "user": {
      "displayName": "Allen Gu",
      "photoUrl": "",
      "userId": "11032189599469915856"
     },
     "user_tz": -600
    },
    "id": "SwanHY88BaW5",
    "outputId": "c96641b2-c7de-4cf6-c5cf-3821508974b8"
   },
   "outputs": [],
   "source": [
    "# Exercise 3\n"
   ]
  },
  {
   "cell_type": "markdown",
   "metadata": {
    "colab_type": "text",
    "id": "Myx88oHDPiVw"
   },
   "source": [
    "---\n",
    "\n",
    "# Help function\n",
    "\n",
    "The in-built `help()` function provides information for in-built Python functions.\n",
    "\n",
    "**Exercise 4: in the code chunk below, run `help(print)`**"
   ]
  },
  {
   "cell_type": "code",
   "execution_count": null,
   "metadata": {
    "colab": {
     "base_uri": "https://localhost:8080/",
     "height": 221
    },
    "colab_type": "code",
    "executionInfo": {
     "elapsed": 1084,
     "status": "ok",
     "timestamp": 1598764238240,
     "user": {
      "displayName": "Allen Gu",
      "photoUrl": "",
      "userId": "11032189599469915856"
     },
     "user_tz": -600
    },
    "id": "4ZwVgn_KChGJ",
    "outputId": "d6767c27-a20a-4a19-ab89-54acf1ba5cab"
   },
   "outputs": [],
   "source": [
    "# Exercise 4\n",
    "help(print)"
   ]
  },
  {
   "cell_type": "markdown",
   "metadata": {
    "colab_type": "text",
    "id": "J4uA8wDACwq4"
   },
   "source": [
    "---\n",
    "\n",
    "# Variables\n",
    "\n",
    "A *variable* is an object that stores information. We can name a variable using standard characters, and we use the equals sign `=` to *assign* information to a variable. For example, the code:\n",
    "\n",
    "    TestVariable = \"Some text\"\n",
    "\n",
    "creates a variable called `TestVariable` and assigns the information (in this case, a string) `\"Some text\"` to the variable. Note that unlike in maths, we cannot swap the left-hand and right-hand sides of the equals sign. Rather, the information we want to store is always on the right-hand side, while the variable is always on the left.\n",
    "\n",
    "Suppose now we run:\n",
    "\n",
    "    print(TestVariable)\n",
    "\n",
    "we will see `Some text`\n",
    "\n",
    "**Exercise 5: Create a variable called `Name` and assign your name to `Name`. Then, print `Name`.**"
   ]
  },
  {
   "cell_type": "code",
   "execution_count": null,
   "metadata": {
    "colab": {
     "base_uri": "https://localhost:8080/",
     "height": 34
    },
    "colab_type": "code",
    "executionInfo": {
     "elapsed": 1089,
     "status": "ok",
     "timestamp": 1598764256148,
     "user": {
      "displayName": "Allen Gu",
      "photoUrl": "",
      "userId": "11032189599469915856"
     },
     "user_tz": -600
    },
    "id": "4rHwD8m68OVt",
    "outputId": "d19b3fe0-f580-4a89-dd1a-f47715bebf7b"
   },
   "outputs": [],
   "source": [
    "# Exercise 5\n"
   ]
  },
  {
   "cell_type": "markdown",
   "metadata": {
    "colab_type": "text",
    "id": "nt-ldUXgIiVN"
   },
   "source": [
    "---\n",
    "# String concatenation\n",
    "*String concatenation* is a fancy term to describe combining strings together. To combine different strings, we can use the `+` sign. For example:\n",
    "\n",
    "```\n",
    "str1 = \"break\"\n",
    "str2 = \"through\"\n",
    "print(str1 + str2)\n",
    "```\n",
    "\n",
    "would produce the following output:\n",
    "\n",
    "```\n",
    "breakthrough\n",
    "```\n",
    "\n",
    "To repeat the same string a specified number of times we can use the `*` sign, which performs multiplication in Python. For example:\n",
    "\n",
    "```\n",
    "str = \"Aussie\"\n",
    "print(str * 3)\n",
    "```\n",
    "\n",
    "would produce the following output:\n",
    "\n",
    "```\n",
    "AussieAussieAussie\n",
    "```\n",
    "\n",
    "**Exercise 6: In the code chunk below, concatenate two strings of your choice using `+`.**\n"
   ]
  },
  {
   "cell_type": "code",
   "execution_count": null,
   "metadata": {
    "colab": {
     "base_uri": "https://localhost:8080/",
     "height": 34
    },
    "colab_type": "code",
    "executionInfo": {
     "elapsed": 1102,
     "status": "ok",
     "timestamp": 1598764331631,
     "user": {
      "displayName": "Allen Gu",
      "photoUrl": "",
      "userId": "11032189599469915856"
     },
     "user_tz": -600
    },
    "id": "ztqwj5-3Ig0L",
    "outputId": "3686a3f0-3d99-4909-e9e5-0d982147aa8f"
   },
   "outputs": [],
   "source": [
    "# Exercise 6\n"
   ]
  },
  {
   "cell_type": "markdown",
   "metadata": {},
   "source": [
    "**Exercise 7: In the code chunk below, print the string \"repeat \" 4 times using `*`. (Note that there is a space after the word repeat, so there should be a gap between each printed word)**"
   ]
  },
  {
   "cell_type": "code",
   "execution_count": null,
   "metadata": {},
   "outputs": [],
   "source": [
    "# Exercise 7\n"
   ]
  },
  {
   "cell_type": "markdown",
   "metadata": {
    "colab_type": "text",
    "id": "99i-D1AWKFf9"
   },
   "source": [
    "---\n",
    "# Printing multiple arguments and string formatting\n",
    "\n",
    "You can pass multiple inputs (*arguments*) into the print function by separating them with commas. For instance, run the following code block and see what the output is:"
   ]
  },
  {
   "cell_type": "code",
   "execution_count": null,
   "metadata": {},
   "outputs": [],
   "source": [
    "Name = \"Elon\"\n",
    "Crypto = \"Dogecoin\"\n",
    "print(\"Hello!\\nMy name is\", Name, \".\\n\", Crypto, \"is my favourite cryptocurrency.\")"
   ]
  },
  {
   "cell_type": "markdown",
   "metadata": {
    "colab_type": "text",
    "id": "wuQ2rIURzoD6"
   },
   "source": [
    "\n",
    "Note that the formatting of this output is incorrect. The full stop after \"Elon\" is off by a space and the last sentence begins on the wrong indentation. This is because the print function automatically adds a space either side of each variable when used in this way.\n",
    "\n",
    "This can be overcome by using a string formatting technique, called **f-string formatting**, to produce the desired output format. Every *f-string* starts with an `f` character followed by the string you want to format. You can display the value of variables by enclosing them in curly `{}` braces within the string. For instance, run the following block of code and check that it produces the desired output:\n"
   ]
  },
  {
   "cell_type": "code",
   "execution_count": null,
   "metadata": {},
   "outputs": [],
   "source": [
    "Name = \"Elon\"\n",
    "Crypto = \"Dogecoin\"\n",
    "print(f\"Hello!\\nMy name is {Name}.\\n{Crypto} is my favourite cryptocurrency.\")"
   ]
  },
  {
   "cell_type": "markdown",
   "metadata": {},
   "source": [
    "**Exercise 8: In the code chunk below, create at least 2 variables containing strings of your choice. Then, try to reproduce the same output by (a) passing them directly into the print function, and (b) using f-string formatting instead.**"
   ]
  },
  {
   "cell_type": "code",
   "execution_count": null,
   "metadata": {
    "colab": {
     "base_uri": "https://localhost:8080/",
     "height": 51
    },
    "colab_type": "code",
    "executionInfo": {
     "elapsed": 1088,
     "status": "ok",
     "timestamp": 1598764357772,
     "user": {
      "displayName": "Allen Gu",
      "photoUrl": "",
      "userId": "11032189599469915856"
     },
     "user_tz": -600
    },
    "id": "I_e3MSSuG1-B",
    "outputId": "c18efacf-cb9f-4e84-a2cf-9be7f661b942"
   },
   "outputs": [],
   "source": [
    "# Exercise 8\n"
   ]
  },
  {
   "cell_type": "markdown",
   "metadata": {
    "colab_type": "text",
    "id": "w8B5PI4nN7eL"
   },
   "source": [
    "---\n",
    "# Input function\n",
    "\n",
    "The `input()` function takes input from a user and converts it into a string. You can provide a *prompt* argument to display a message to the user when asking for their input. For instance,\n",
    "```\n",
    "PainScore = input(\"Rate your pain from 0 (no pain) to 10 (worst pain ever):\")\n",
    "```\n",
    "prompts the user to input a number and stores it as a string in the `PainScore` variable.\n",
    "\n",
    "**Exercise 9: In the block of code below, run the pre-existing code, read the prompt, type an input, and press Enter.**\n",
    "\n",
    "\n",
    "\n"
   ]
  },
  {
   "cell_type": "code",
   "execution_count": null,
   "metadata": {
    "colab": {
     "base_uri": "https://localhost:8080/",
     "height": 51
    },
    "colab_type": "code",
    "executionInfo": {
     "elapsed": 4850,
     "status": "ok",
     "timestamp": 1598764366132,
     "user": {
      "displayName": "Allen Gu",
      "photoUrl": "",
      "userId": "11032189599469915856"
     },
     "user_tz": -600
    },
    "id": "kuxIWerfN9aT",
    "outputId": "10781bbe-9966-40b8-da95-471faaec28c7"
   },
   "outputs": [],
   "source": [
    "# Exercise 9\n",
    "LockdownRating = input(\"Rate how much you enjoyed 2020 from 0 (hated it) to 10 (loved it): \")\n",
    "print(f\"You rated your 2020 experience as {LockdownRating} out of 10.\")"
   ]
  },
  {
   "cell_type": "markdown",
   "metadata": {
    "colab_type": "text",
    "id": "bL-FvaZsHSlf"
   },
   "source": [
    "**Exercise 10: Write code that takes an input (with a prompt of your choice) and assign that to a variable. Then, print the variable.**"
   ]
  },
  {
   "cell_type": "code",
   "execution_count": null,
   "metadata": {
    "colab": {
     "base_uri": "https://localhost:8080/",
     "height": 51
    },
    "colab_type": "code",
    "executionInfo": {
     "elapsed": 4257,
     "status": "ok",
     "timestamp": 1598764416642,
     "user": {
      "displayName": "Allen Gu",
      "photoUrl": "",
      "userId": "11032189599469915856"
     },
     "user_tz": -600
    },
    "id": "tnI9zNuTHxFT",
    "outputId": "8e1e3ad7-096b-45c2-9d45-3d335cb0e81a"
   },
   "outputs": [],
   "source": [
    "# Exercise 10\n"
   ]
  },
  {
   "cell_type": "markdown",
   "metadata": {
    "colab_type": "text",
    "id": "X5pSDSrcmtcq"
   },
   "source": [
    "**Exercise 11: Write code that takes in a user's first name and last name and then prints their full name. (Hint: Create two variables, FirstName and LastName)**"
   ]
  },
  {
   "cell_type": "code",
   "execution_count": null,
   "metadata": {
    "colab": {
     "base_uri": "https://localhost:8080/",
     "height": 68
    },
    "colab_type": "code",
    "executionInfo": {
     "elapsed": 8256,
     "status": "ok",
     "timestamp": 1598764469650,
     "user": {
      "displayName": "Allen Gu",
      "photoUrl": "",
      "userId": "11032189599469915856"
     },
     "user_tz": -600
    },
    "id": "hWY-wjZRm5Qn",
    "outputId": "c7bb5545-653d-4c88-9ba8-ec8170b8d24c"
   },
   "outputs": [],
   "source": [
    "# Exercise 11\n"
   ]
  },
  {
   "cell_type": "markdown",
   "metadata": {},
   "source": [
    "---\n",
    "Congratulations! You have made it through the first workshop of the series! We will see you next week, where we will expand upon the basic knowledge that you have gained today."
   ]
  }
 ],
 "metadata": {
  "colab": {
   "collapsed_sections": [],
   "name": "ANSWERS Workshop 1.ipynb",
   "provenance": [],
   "toc_visible": true
  },
  "kernelspec": {
   "display_name": "Python 3",
   "language": "python",
   "name": "python3"
  },
  "language_info": {
   "codemirror_mode": {
    "name": "ipython",
    "version": 3
   },
   "file_extension": ".py",
   "mimetype": "text/x-python",
   "name": "python",
   "nbconvert_exporter": "python",
   "pygments_lexer": "ipython3",
   "version": "3.8.5"
  }
 },
 "nbformat": 4,
 "nbformat_minor": 4
}
