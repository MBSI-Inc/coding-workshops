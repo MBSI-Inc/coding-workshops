{
 "cells": [
  {
   "cell_type": "markdown",
   "metadata": {
    "id": "U2Ue8oZhVWCb"
   },
   "source": [
    "# Workshop #3 Worksheet\n",
    "\n",
    "Welcome to Workshop #3! We're excited to share some fun and medically relevant problems for you to work through.   \n",
    "\n",
    "Unless otherwise indicated as exercises, the code cells in this worksheet are illustrative examples which you should run.\n",
    "\n",
    "---"
   ]
  },
  {
   "cell_type": "markdown",
   "metadata": {
    "id": "t5K4dC9Nz20c"
   },
   "source": [
    "# 1) Booleans\n",
    "\n",
    "Different data types include:\n",
    "*   Strings\n",
    "*   Integers\n",
    "*   Floats\n",
    "*   **Booleans**\n",
    "\n",
    "\n",
    "\n",
    "\n",
    "This week, we're introducing another data type in addition to the three you've already seen so far (strings, integers and floats): the **booleans**. \n",
    "\n",
    "In a sense, booleans are the simplest of the four data types because there are only two possible values a boolean variable can take: `True` or `False`.\n",
    "\n",
    "\n",
    "**Example: The two boolean values**"
   ]
  },
  {
   "cell_type": "code",
   "execution_count": null,
   "metadata": {
    "colab": {
     "base_uri": "https://localhost:8080/"
    },
    "executionInfo": {
     "elapsed": 2095,
     "status": "ok",
     "timestamp": 1618115527467,
     "user": {
      "displayName": "Lichuan Li",
      "photoUrl": "",
      "userId": "15543419936374914048"
     },
     "user_tz": -480
    },
    "id": "sOVLjdOyU31C",
    "outputId": "99a72752-8dac-453b-f32f-9ab1d4f18c8b"
   },
   "outputs": [],
   "source": [
    "# Boolean variables\n",
    "I_like_medicine = True\n",
    "print(I_like_medicine)\n",
    "print(type(I_like_medicine))\n",
    "\n",
    "print() # This just prints a new line\n",
    "\n",
    "I_have_COVID19 = False\n",
    "print(I_have_COVID19)\n",
    "print(type(I_have_COVID19))"
   ]
  },
  {
   "cell_type": "markdown",
   "metadata": {
    "id": "ma1w5wT906ol"
   },
   "source": [
    "As with other data types, it is possible to convert something into a boolean with the `bool()` command.\n",
    "\n",
    "**Example: Converting int/float to boolean**"
   ]
  },
  {
   "cell_type": "code",
   "execution_count": null,
   "metadata": {
    "colab": {
     "base_uri": "https://localhost:8080/"
    },
    "executionInfo": {
     "elapsed": 715,
     "status": "ok",
     "timestamp": 1618115706650,
     "user": {
      "displayName": "Lichuan Li",
      "photoUrl": "",
      "userId": "15543419936374914048"
     },
     "user_tz": -480
    },
    "id": "YptS70t4027o",
    "outputId": "b435df27-1f6f-469a-8691-2c44fd0dab32"
   },
   "outputs": [],
   "source": [
    "I_like_medicine = bool(3.14) # Non-zero numbers are converted to True\n",
    "print(I_like_medicine)\n",
    "print(type(I_like_medicine))\n",
    "\n",
    "print()\n",
    "\n",
    "I_have_COVID19 = bool(0) # Zero is converted to False\n",
    "print(I_have_COVID19)\n",
    "print(type(I_have_COVID19))"
   ]
  },
  {
   "cell_type": "markdown",
   "metadata": {
    "id": "VnmTgyjR11G1"
   },
   "source": [
    "**Exercise 1 (Optional)**\n",
    "\n",
    "**You've seen above that numbers can be converted to booleans with the `bool()` function. What about converting strings to booleans with the `bool()` function? Can you figure out which strings get converted to `True` and which strings become `False`?**\n",
    "\n",
    "***(Hint: which number converts to*** `False`***?)***"
   ]
  },
  {
   "cell_type": "code",
   "execution_count": null,
   "metadata": {
    "colab": {
     "base_uri": "https://localhost:8080/"
    },
    "executionInfo": {
     "elapsed": 725,
     "status": "ok",
     "timestamp": 1618116150852,
     "user": {
      "displayName": "Lichuan Li",
      "photoUrl": "",
      "userId": "15543419936374914048"
     },
     "user_tz": -480
    },
    "id": "iQ_Bgvqe2DZO",
    "outputId": "a963c3f0-b853-45f8-92be-2964c7f9e1eb"
   },
   "outputs": [],
   "source": [
    "# Exercise 1\n"
   ]
  },
  {
   "cell_type": "markdown",
   "metadata": {
    "id": "HyLtfPjR2tDi"
   },
   "source": [
    "**Exercise 2 (Optional)**\n",
    "\n",
    "1. **Try converting the boolean values `True` and `False` to strings with the `str()` function. What are the results?**\n",
    "2. **Now try converting `True` and `False` to integers using the `int()` function.**\n",
    "3. **Now try converting `True` and `False` to floats using the `float()` function.**"
   ]
  },
  {
   "cell_type": "code",
   "execution_count": null,
   "metadata": {
    "colab": {
     "base_uri": "https://localhost:8080/"
    },
    "executionInfo": {
     "elapsed": 693,
     "status": "ok",
     "timestamp": 1618116515504,
     "user": {
      "displayName": "Lichuan Li",
      "photoUrl": "",
      "userId": "15543419936374914048"
     },
     "user_tz": -480
    },
    "id": "6zI7LIJZ2sd0",
    "outputId": "11cb0b58-0558-43a9-d506-68900a7af289"
   },
   "outputs": [],
   "source": [
    "# Exercise 2\n"
   ]
  },
  {
   "cell_type": "markdown",
   "metadata": {
    "id": "PAi7uJTk22Vo"
   },
   "source": [
    "# 2) Boolean expressions \n",
    "## 2.1) Mathematical comparisons\n",
    "If I present this statement to you: $$5>10$$ would you say this is a *true* statement or *false* statement? Clearly, it is *false* because $5$ is not greater than $10$.\n",
    "\n",
    "Similarly, you can present statements like this to Python, and it will tell you whether the statement is `True` or `False`. These statements are called *Boolean expressions* because the expression is either true or false.\n",
    "\n",
    "Many Boolean expressions take the form of mathematical comparisons, like the $5>10$ example above. Basically, you're comparing one number to another and checking whether the comparison you claim is correct. A full list of *comparison operations* is shown in the table below.\n",
    "\n",
    "- | Equal to | Not equal to | Less than | Less than or equal to | Greater than | Greater than or equal to\n",
    "--- | --- | --- | --- | --- | --- | ---\n",
    "**Mathematical symbol** | $=$ | $\\neq$ | $<$ | $\\leq$ | $>$ | $\\geq$\n",
    "**Python code** | `==` | `!=` | `<` | `<=` | `>` | `>=`\n",
    "\n",
    ">💡\n",
    ">Note that because the single equals sign `=` in Python is an *assignment operator*, we actually need *two* equals signs `==` when performing a *comparison*.\n",
    "\n",
    "\n",
    "\n",
    "\n",
    "\n",
    "\n",
    "---\n",
    "\n",
    "\n",
    "\n",
    "\n",
    "\n",
    "**Example: Boolean expressions that are mathematical comparisons**"
   ]
  },
  {
   "cell_type": "code",
   "execution_count": null,
   "metadata": {
    "colab": {
     "base_uri": "https://localhost:8080/"
    },
    "executionInfo": {
     "elapsed": 954,
     "status": "ok",
     "timestamp": 1618121266525,
     "user": {
      "displayName": "Lichuan Li",
      "photoUrl": "",
      "userId": "15543419936374914048"
     },
     "user_tz": -480
    },
    "id": "BZdw4D-k-cSP",
    "outputId": "aa04cadf-6b9c-4098-d263-3d865eaceb3e"
   },
   "outputs": [],
   "source": [
    "print(5 == 5) # Is 5 equal to 5?\n",
    "\n",
    "print(5 == 10) # Is 5 equal to 10?\n",
    "\n",
    "print(5 != 10) # Is 5 not equal to 10?\n",
    "\n",
    "# You can also chain comparison operators together\n",
    "print(4 <= 6 < 9) # Is 6 between 4 and 9 (possibly inclusive of 4)?\n"
   ]
  },
  {
   "cell_type": "markdown",
   "metadata": {
    "id": "SqHoVu4i7er4"
   },
   "source": [
    "We can also assign variables to boolean expressions (more explicitly, Python first evaluates the boolean expression, then assigns the boolean result to the variable)."
   ]
  },
  {
   "cell_type": "code",
   "execution_count": null,
   "metadata": {
    "colab": {
     "base_uri": "https://localhost:8080/"
    },
    "executionInfo": {
     "elapsed": 752,
     "status": "ok",
     "timestamp": 1618121546370,
     "user": {
      "displayName": "Lichuan Li",
      "photoUrl": "",
      "userId": "15543419936374914048"
     },
     "user_tz": -480
    },
    "id": "o3U3Begt7c0a",
    "outputId": "2539eccc-e847-4786-ada8-e27e006c389d"
   },
   "outputs": [],
   "source": [
    "x = 5 < 10\n",
    "print(x)  # x stores the result of the question \"Is 5 less than 10?\"\n",
    "\n",
    "y = 5 >= 5.0\n",
    "print(y)  # y stores the result of the question \"Is 5 greater than or equal to 5.0?\""
   ]
  },
  {
   "cell_type": "markdown",
   "metadata": {
    "id": "fLcPMLOS8AV_"
   },
   "source": [
    "**Example: Boolean expressions that are not mathematical comparisons** \n",
    "\n",
    "Comparisons are not just limited to mathematical objects like integers or floats. We can also compare between strings using the `==` and `!=` operators. The `<`, `<=`, `>`, `>=` operators *can* actually be used to compare strings too, but the comparison is not very straightforward and so we'll avoid that."
   ]
  },
  {
   "cell_type": "code",
   "execution_count": null,
   "metadata": {
    "colab": {
     "base_uri": "https://localhost:8080/"
    },
    "executionInfo": {
     "elapsed": 693,
     "status": "ok",
     "timestamp": 1618122112797,
     "user": {
      "displayName": "Lichuan Li",
      "photoUrl": "",
      "userId": "15543419936374914048"
     },
     "user_tz": -480
    },
    "id": "NMp9KEMW8Y3V",
    "outputId": "7f468600-1629-4280-e307-81ef702249fc"
   },
   "outputs": [],
   "source": [
    "z = \"Doctor\" == \"Doctor\"\n",
    "print(z)  # The two strings above are the same string\n",
    "\n",
    "w = \"Doctor\" == \"doctor\"\n",
    "print(w)  # The two strings above are different: strings are case-sensitive\n",
    "\n",
    "a = \"Doctor\"\n",
    "b = \"Patient\"\n",
    "print(a != b) # a and b differ, so a != b evaluates to True."
   ]
  },
  {
   "cell_type": "markdown",
   "metadata": {
    "id": "fnBEl9Qa-0v9"
   },
   "source": [
    "**Exercise 3**\n",
    "\n",
    "**Your turn! Write 3 different comparison expressions. Be as creative as you like! (You may try if \"0\" == 0 .)**\n"
   ]
  },
  {
   "cell_type": "code",
   "execution_count": null,
   "metadata": {
    "id": "toq-eEVpFU32"
   },
   "outputs": [],
   "source": [
    "# Exercise 3\n",
    "\n",
    "#1\n",
    "\n",
    "#2\n",
    "\n",
    "#3"
   ]
  },
  {
   "cell_type": "markdown",
   "metadata": {
    "id": "Bhsul34Y9YBW"
   },
   "source": [
    "---\n",
    "\n",
    "## 2.2) Boolean logic\n",
    "You've just seen that comparisons are a type of Boolean expression. Another type of Boolean expression are statements of *Boolean logic*. Boolean logic deals with manipulations of booleans themselves. There are three Boolean operators: \n",
    "\n",
    "1.   The `and` operator considers two boolean values. If both values are `True`, then the `and` operator returns `True`. Otherwise, it returns `False`.\n",
    "\n",
    "`x` | `y` | `x and y`\n",
    "--- | --- | ---\n",
    "`True` | `True` | `True`\n",
    "`True` | `False` | `False`\n",
    "`False` | `True` | `False`\n",
    "`False` | `False` | `False`\n",
    "\n",
    "2.   The `or` operator considers two boolean values. If at least one value is `True`, then the `or` operator returns `True`. Otherwise, it returns `False`.\n",
    "\n",
    "`x` | `y` | `x or y`\n",
    "--- | --- | ---\n",
    "`True` | `True` | `True`\n",
    "`True` | `False` | `True`\n",
    "`False` | `True` | `True`\n",
    "`False` | `False` | `False`\n",
    "\n",
    "3.   The `not` operator considers only one boolean value. It returns the opposite of this value.\n",
    "\n",
    "`x` | `not x` \n",
    "--- | ---\n",
    "`True` | `False`\n",
    "`False` | `True`\n",
    "\n",
    "**Example: Boolean logic**"
   ]
  },
  {
   "cell_type": "code",
   "execution_count": null,
   "metadata": {
    "id": "OWpYMgXpFgGc",
    "outputId": "b995c7b0-caa5-4bac-bf33-a4cad008e3ce"
   },
   "outputs": [],
   "source": [
    "# Logical operators\n",
    "\n",
    "x = True\n",
    "y = False\n",
    "\n",
    "# AND\n",
    "print(x and y)  # This should be False because only one of (x, y) is True\n",
    "\n",
    "# OR\n",
    "print(x or y)  # This should be True because at least one of (x, y) is True\n",
    "\n",
    "# NOT\n",
    "print(not x)  # This should be False because x is True\n",
    "print(not y)  # This should be True because y is False\n",
    "\n"
   ]
  },
  {
   "cell_type": "markdown",
   "metadata": {
    "id": "2hG8ynl9Bsjq"
   },
   "source": [
    "**Exercise 4**\n",
    "1.   **Before running the code cell below, try to predict what the four `print()` functions will produce. Then, run the code cell and see if you were right. *(Hint: Python evaluates brackets first, then `not`, then `and`, then `or`.)*** "
   ]
  },
  {
   "cell_type": "code",
   "execution_count": null,
   "metadata": {
    "id": "R7dMsETeiApD",
    "outputId": "45a7b1ad-a9aa-4f28-bfa3-cee950cfec99"
   },
   "outputs": [],
   "source": [
    "# Exercise 4\n",
    "\n",
    "a = False\n",
    "b = False\n",
    "c = True\n",
    "d = True\n",
    "\n",
    "print( a or b and c or d )\n",
    "print( not (a or b and c or d) )\n",
    "print( a or b and (c or d) )\n",
    "print( (not a or not b) and (c or d) )"
   ]
  },
  {
   "cell_type": "markdown",
   "metadata": {
    "id": "j3zCbEK3DJAJ"
   },
   "source": [
    "We can of course combine mathematical comparisons and Boolean logic. Recall that mathematical comparisons like `5 > 10` just becomes a boolean value.\n",
    "\n",
    "**Example: Combining maths and logic**"
   ]
  },
  {
   "cell_type": "code",
   "execution_count": null,
   "metadata": {
    "id": "7RSX69snDX5s",
    "outputId": "7e23d3b3-9314-43c3-aeb9-7fca903f2e68"
   },
   "outputs": [],
   "source": [
    "print( 5 > 10 or 4 == 4 )\n",
    "# This should be True because 4==4 is True\n",
    "\n",
    "print( not 6 <= 8 )\n",
    "# This should be False because 6<=8 is True\n",
    "\n",
    "print( (not 6) <= 8)\n",
    "# Be careful here! This actually comes out to True.\n",
    "# (not 6) gets evaluated to False, because Python views all non-zero numbers as True.\n",
    "# In Python's eyes, False is the same as 0. So, the above statement reduces to print(0 <= 8), which is True."
   ]
  },
  {
   "cell_type": "markdown",
   "metadata": {
    "id": "7pwDA3LIEx6t"
   },
   "source": [
    "---\n",
    "\n",
    "# 3) Conditionals\n",
    "In life (and in computing), often we need to take different courses of action under different circumstances. *Conditional* statements, or `if`-`elif`-`else` statements, are how we get Python to take different courses of action. \n",
    "\n",
    "**It is hard to overstate just how fundamental conditionals are to algorithms and computing.**\n",
    "\n",
    "## 3.1) `if`\n",
    "\n",
    "For instance, if we want Python to print `Patient has a fever` only if the temperature is at least $37.5^\\circ C$, we use the following code:\n",
    "\n",
    "**Example: `if` statement with febrile patient**"
   ]
  },
  {
   "cell_type": "code",
   "execution_count": null,
   "metadata": {
    "id": "bKHtDh4fFQte"
   },
   "outputs": [],
   "source": [
    "# if statement\n",
    "temp = 38 # in degrees Celsius\n",
    "if temp >= 37.5:\n",
    "    print(\"Patient has a fever\")"
   ]
  },
  {
   "cell_type": "markdown",
   "metadata": {
    "id": "4cGp5AtcG8HG"
   },
   "source": [
    "Let's dissect the above code a bit. \n",
    "1.   On the first line, we define `temp` to be `38`. \n",
    "2.   In the next line, we use the keyword `if` to test if `temp` is at least `37.5`. A colon `:` completes this line. Essentially, we only run what follows this line if the boolean expression (in this case, `temp >= 37.5`) evaluates to `True`. With `temp = 38`, that is exactly the case.\n",
    "3.   On the next line, we first begin the line with a double-spaced indent. Then, we print `Patient has a fever`\n",
    "\n",
    "Pretty intuitive, right! In general, an `if` statement has the following form:\n",
    "\n",
    "    if <some condition>:\n",
    "      <some instruction>\n",
    "      <maybe some other instruction>\n",
    "\n",
    "where `<some condition>` is any Boolean expression (can be mathematical comparisons or Boolean logic statements or a mix of both). The indented instructions are only run if this Boolean expression evaluates to `True`.\n",
    "\n",
    "Let's try the above temperature code again, except this time we set `temp = 36.9`, below the fever threshold.\n",
    "\n",
    "**Example: `if` statement with non-febrile patient**"
   ]
  },
  {
   "cell_type": "code",
   "execution_count": null,
   "metadata": {
    "id": "1srDBWPpH8Uh"
   },
   "outputs": [],
   "source": [
    "# if statement, this time with a non-febrile patient\n",
    "temp = 36.9 # in degrees Celsius\n",
    "if temp >= 37.5:\n",
    "    print(\"Patient has a fever\")"
   ]
  },
  {
   "cell_type": "markdown",
   "metadata": {
    "id": "xfSKWO4mH_-k"
   },
   "source": [
    "Nothing happened! This was because the `print()` statement didn't run, as the condition that `temp >= 37.5` was not fulfilled.\n",
    "\n",
    "## 3.2) `if`-`else`\n",
    "\n",
    "What if in the $36.9^\\circ C$ case, we aren't happy with Python basically doing nothing? What if we wanted Python to instead print something like `Patient does not have a fever` instead of just being silent?\n",
    "\n",
    "We can add another piece of code, the `else` statement. Basically, the code under the `else` statement gets run when the condition attached to the `if` is *not* `True`.\n",
    "\n",
    "**Example: `if`-`else` statement with non-febrile patient**"
   ]
  },
  {
   "cell_type": "code",
   "execution_count": null,
   "metadata": {
    "id": "BmOUzLf4FS4u"
   },
   "outputs": [],
   "source": [
    "# if-else statement\n",
    "temp = 36.9 # in degrees Celsius\n",
    "if temp > 37.5:\n",
    "    print(\"Patient has a fever\")\n",
    "else:\n",
    "    print(\"Patient does not have a fever\")"
   ]
  },
  {
   "cell_type": "markdown",
   "metadata": {
    "id": "NnEAev5FJv3q"
   },
   "source": [
    "## 3.3) `if`-`elif`-`else`\n",
    "What if we're not happy with just two categories, but we instead want three, or four, or ten categories? Suppose we have four categories of temperature:\n",
    "* Above $38.5^\\circ C$ is \"high-grade fever\"\n",
    "* Between $37.5^\\circ C$ and $38.5^\\circ C$ is \"low-grade fever\"\n",
    "* Between $36.0^\\circ C$ and $37.5^\\circ C$ is \"normal temperature\"\n",
    "* Under $36.0^\\circ C$ is \"hypothermia\"\n",
    "\n",
    "When we humans try to find the category that fits a given temperature, say $38^\\circ C$, we run through the above conditions until we find one that sticks. We aim to replicate the same algorithmic process in Python.\n",
    "\n",
    "To implement this in Python, we do the following.\n",
    "*  For the first condition, write \n",
    "        if <condition A>:\n",
    "          <action you want to take \n",
    "          if condition A is satisfied>\n",
    "*  For the next few conditions, write for each of those conditions:\n",
    "        elif <condition N>:\n",
    "          <action you want to take \n",
    "          if condition N is satisfied>\n",
    "\n",
    "  Note that `elif` is short for `else if`, used when you have more than one condition you're checking against. \n",
    "\n",
    "\n",
    "*  If the final condition is basically a \"whatever else is left\" condition, write\n",
    "        else:\n",
    "          <action you want to take \n",
    "          if condition Z is satisfied>\n",
    "  Remember, only use `else` if the final condition covers all possibilities not covered by preceeding `if`-`elif` statements! Otherwise, it is perfectly acceptable to just have `if`-`elif` statements without the `else`.\n",
    "\n",
    "Let's implement the above temperature example!\n",
    "\n",
    "**Example: `if`-`elif`-`else` statement with low-grade fever patient**"
   ]
  },
  {
   "cell_type": "code",
   "execution_count": null,
   "metadata": {
    "id": "8Kld0dS0FWVH"
   },
   "outputs": [],
   "source": [
    "# if-elif-else statement\n",
    "temp = 38 # in degrees Celsius\n",
    "\n",
    "if temp > 38.5:\n",
    "    print(\"Patient has a high-grade fever\")\n",
    "    print(\"We should really worry about this.\")\n",
    "\n",
    "elif 37.5 < temp <= 38.5:\n",
    "    print(\"Patient has a low-grade fever\")\n",
    "    print(\"We aren't too worried about this.\")\n",
    "\n",
    "elif 36.0 < temp <= 37.5:\n",
    "    print(\"Patient has a normal temperature\")\n",
    "    print(\"Hopefully this means there is no infection.\")\n",
    "\n",
    "else:\n",
    "    print(\"Patient has hypothermia\")\n",
    "    print(\"Get the patient a warm blanket!\")"
   ]
  },
  {
   "cell_type": "markdown",
   "metadata": {
    "id": "ubAhROAzPKxG"
   },
   "source": [
    "A few very important things to note about `if`-`elif`-`else` statements.\n",
    "*   The indentation is ***CRITICAL*** to get right. The indentation is what tells Python \"hey, this section of code is what I want you to run under this condition\". Screwing up the indentation is a very common mistake.\n",
    "\n",
    "(Python accepts two-spaced, four-spaced and tab indentation. It doesn't matter which you choose, so long as you keep the choice consistent in your code or there'll be an error.)\n",
    "\n",
    "*   Don't forget the colon `:` after every `if`, `elif` or `else` line. Forgetting the colon is also a very common error.\n",
    "*   Python runs through the `if`-`elif`-`else` statements in order. This means you really want to be making sure that the logical order you want Python to follow is the actual order Python reads in your code.\n",
    "\n",
    "# 3.4) Nested conditionals\n",
    "If you find you need to make subcases within your conditional cases, you can make *nested conditionals*, which are `if`-`elif`-`else` statements within `if`-`elif`-`else` statements. If you understand the plot of the film *Inception*, you'll have no trouble getting this bit.\n",
    "\n",
    "Pay close attention to how indentation is used to distinguish different `if`-`elif`-`else` statments within nested conditionals. Here is an example.\n",
    "\n",
    "**Example: Nested conditionals (DO NOT run this code, it will return ERROR, it would be fun for you to guess why?)** "
   ]
  },
  {
   "cell_type": "code",
   "execution_count": null,
   "metadata": {
    "id": "wji0HJbZFYeT",
    "outputId": "1159937b-a2b1-4200-9136-7355e38c2b1f"
   },
   "outputs": [],
   "source": [
    "# Nested conditionals \n",
    "\n",
    "# DO NO RUN THIS WINDOW!!!\n",
    "\n",
    "if <condition A>:          # No indent here\n",
    "    if <condition AA>:     # One instance of tab indentation\n",
    "        <instructions AA>  # Two instances of tab indentation\n",
    "    elif <condition AB>:   # Back to one instance of tab indentation\n",
    "        <instructions AB>  # Two instances of tab indentation\n",
    "    else:\n",
    "        <instructions AC>\n",
    "                           # Empty lines don't matter\n",
    "elif <condition B>:        # Back to no indentation\n",
    "    if <condition BA>:\n",
    "        <instructions BA>\n",
    "    else:\n",
    "        <instructions BB>\n",
    "\n",
    "else:\n",
    "    if <condition CA>:\n",
    "        <instructions CA>\n",
    "    else:\n",
    "        <instructions CB>"
   ]
  },
  {
   "cell_type": "markdown",
   "metadata": {
    "id": "gxp3dlE1Laml"
   },
   "source": [
    "**Exercise 5**\n",
    "\n",
    "**BMI is used to apply qualitative labels on a person's body habitus. One commonly accepted labelling is:**\n",
    "*  **BMI below 20: Underweight**\n",
    "*  **BMI between 20 and 25: Healthy weight**\n",
    "*  **BMI between 25 and 30: Overweight**\n",
    "*  **BMI between 30 and 40: Obese**\n",
    "*  **BMI above 40: Morbidly obese**\n",
    "\n",
    "**Your task is:**\n",
    "1.  **Write an input function that takes in a user's BMI and assigns it to a `BMI` variable.**\n",
    "2.  **Use `if`-`elif`-`else` statements to print the qualitative label that corresponds to the user-input `BMI`.**\n",
    "\n",
    "If you wish, you can first attempt this problem with pseudocode or flowchart before converting it into actual code."
   ]
  },
  {
   "cell_type": "code",
   "execution_count": null,
   "metadata": {
    "id": "AsjSto9zhzp6"
   },
   "outputs": [],
   "source": [
    "# Exercise 5\n"
   ]
  },
  {
   "cell_type": "markdown",
   "metadata": {
    "id": "m4mfqRTZUFec"
   },
   "source": [
    "**Exercise 6**\n",
    "\n",
    "**A patient has come in to your GP practice with strep throat**.\n",
    "1.  **Create an input with this *specific* prompt: `Are you allergic to penicillin? (Y/N) `**\n",
    "2.  **If the user answers with `N` or `n`, print `Amoxicillin is safe`. Then, assign the value `\"amixocillin\"` to the variable `drug`.**\n",
    "3.  **However, if the user answers with `Y` or `y`, print `Let's use clarithromycin instead`. Then, assign the value `\"clarithromycin\"` to the variable `drug`.**\n",
    "4.  **However, if the user answers with anything else, print `Are you blind? Can't you read?`. Then, assign the value `\"new glasses\"` to the variable `drug`.**\n",
    "4.  **Next, regardless of what the user answered to your prompt, print something like `Here is a prescription for <drug>`, where `<drug>` is whatever drug you stored in the `drug` variable.**"
   ]
  },
  {
   "cell_type": "code",
   "execution_count": null,
   "metadata": {
    "id": "1PD3ReRlWLG2"
   },
   "outputs": [],
   "source": [
    "# Exercise 6\n"
   ]
  },
  {
   "cell_type": "markdown",
   "metadata": {
    "id": "IVwwe21-YywB"
   },
   "source": [
    "The above exercise demonstrates a few general rules. When writing prompts for `input()` functions, it's usually good practice to: \n",
    "* state the valid options in the prompt (in the above exercise, valid options were `Y` and `N`)\n",
    "* assume that the user is lazy and doesn't care about upper or lower case, so you should accept both `y` and `n` as valid inputs too.\n",
    "* assume that the user is completely inept and will fail to follow simple instructions. You should have a contingency in place in case they provide an invalid input."
   ]
  },
  {
   "cell_type": "markdown",
   "metadata": {
    "id": "X5dsh6THW2p9"
   },
   "source": [
    "**Exercise 7**\n",
    "\n",
    "**You have just diagnosed a patient with atrial fibrillation. To assess their stroke risk and plan appropriately for anticoagulation, you decide to calculate their CHADS-VASc score. You can find a description of the CHADS-VASc score on [this MDCalc link](https://www.mdcalc.com/cha2ds2-vasc-score-atrial-fibrillation-stroke-risk). Your task is to create a CHADS-VASc calculator.**\n",
    "1.   **Create a variable called `score` and set it equal to `0`.**\n",
    "2.   **For each of the CHADS-VASc score items, create an `input()` that prompts for the patient's details for the relevant item. Using `if`-`elif`-`else` statements, update/increment `score` accordingly. (*Optional: if you wish, you may create some safeguards in case user entries are invalid; however, this is not necessary.*)**\n",
    "3.   **Print the final CHADS-VASc score for your patient. Check that your calculator works by running your patient details through the MDCalc page as well.**\n",
    "4.   **Given your final score, print some advice about whether anticoagulation is indicated. (Note: a score of 0 may not require anticoagulation, while a score of 1 means \"consider anticoagulation\", and a score of 2 or above means \"definitely anticoagulate\".)**"
   ]
  },
  {
   "cell_type": "code",
   "execution_count": null,
   "metadata": {
    "id": "V5dMblBdpz6F"
   },
   "outputs": [],
   "source": [
    "# Exercise 7\n"
   ]
  },
  {
   "cell_type": "markdown",
   "metadata": {
    "id": "XxDgskuIqpPT"
   },
   "source": [
    "# 4) Loops\n",
    "You may find that sometimes we copy and paste the exactly same codes multiple times to get an expected output.  Here is an efficient way to repeat codes, called **Loops**.\n",
    "\n",
    "## 4.1) Introduction to `while` loops\n",
    "\n",
    "They are two types of loops *for loop* and *while loop*. This week, we focus on while loop only. As a reminder, a typical while loop looks like this:\n",
    "\n",
    "```\n",
    "while <condition>:\n",
    "    <instructions>\n",
    "```\n",
    "\n",
    "As long as the Boolean condition is satisfied, Python will run the instructions within the loop over and over again. Here is the example from the presentation. Make sure you understand the following example and ask your tutor if you have any questions.\n",
    "\n",
    "**Example**"
   ]
  },
  {
   "cell_type": "code",
   "execution_count": null,
   "metadata": {
    "colab": {
     "base_uri": "https://localhost:8080/"
    },
    "executionInfo": {
     "elapsed": 1668,
     "status": "ok",
     "timestamp": 1618544138572,
     "user": {
      "displayName": "Lichuan Li",
      "photoUrl": "",
      "userId": "15543419936374914048"
     },
     "user_tz": -480
    },
    "id": "FuNHJi1AvAOI",
    "outputId": "8c64025a-d448-468f-8639-9081d59e18ff"
   },
   "outputs": [],
   "source": [
    "n = 0\n",
    "while n < 5:\n",
    "    n += 1\n",
    "    print(f\"Current n is {n}\")\n",
    "print(\"Loop completed\")"
   ]
  },
  {
   "cell_type": "markdown",
   "metadata": {
    "id": "5mRuXy5dvC7H"
   },
   "source": [
    "**Exercise 8**\n",
    "\n",
    "1. **Using a `while` loop, print `\"Hello World\"` ten times.** "
   ]
  },
  {
   "cell_type": "code",
   "execution_count": null,
   "metadata": {
    "id": "AYGjv52QvFii",
    "outputId": "fb46dbc9-7ab7-42d1-e911-82bdfbb5fdd4"
   },
   "outputs": [],
   "source": [
    "# Exercise 8\n"
   ]
  },
  {
   "cell_type": "markdown",
   "metadata": {
    "id": "EsC5E79jvHnb"
   },
   "source": [
    "**Exercise 9: Answer checker**\n",
    "1. **Prompt the user for input with the *specific* prompt `Do you like coriander? (Y/N) ` Assign the input to the variable `coriander`.** \n",
    "2. **Answer checker part: Suppose your user entered an invalid input (that is, neither `\"Y\"` nor `\"N\"`). You want to keep prompting them until they do answer correctly.**\n",
    "\n",
    "    **Create a `while` loop with an appropriate condition. Within this loop, prompt the user for a new input with this *specific* prompt: `The valid options are Y or N. Please try again`.**\n",
    "\n",
    "3. **Once the user provides a valid input, print a statement that reports whether the user likes coriander or not. (Hint: this should take place after the loop)**"
   ]
  },
  {
   "cell_type": "code",
   "execution_count": null,
   "metadata": {
    "colab": {
     "base_uri": "https://localhost:8080/"
    },
    "executionInfo": {
     "elapsed": 3995,
     "status": "ok",
     "timestamp": 1618544625078,
     "user": {
      "displayName": "Lichuan Li",
      "photoUrl": "",
      "userId": "15543419936374914048"
     },
     "user_tz": -480
    },
    "id": "WvYaB65ivKEk",
    "outputId": "bb4f0720-7610-4474-f2cb-fca8b36c9cfa"
   },
   "outputs": [],
   "source": [
    "# Exercise 9\n"
   ]
  },
  {
   "cell_type": "markdown",
   "metadata": {
    "id": "_bamSSn08Qax"
   },
   "source": [
    "## 4.2) `continue`\n",
    "\n",
    "Within a loop, the `continue` command forces Python to stop what it's doing and restart the loop. `continue` is usually used when you want to skip some portion of the code. Here is the example from the presentation:\n",
    "\n",
    "**Example**"
   ]
  },
  {
   "cell_type": "code",
   "execution_count": null,
   "metadata": {
    "id": "HhLx8GPQ8SWY"
   },
   "outputs": [],
   "source": [
    "n = 0\n",
    "while n < 5:\n",
    "    n += 1\n",
    "    if n == 3:\n",
    "        continue   # skips printing 3\n",
    "    print(f\"Current n is {n}\")\n",
    "print(\"Loop completed.\")"
   ]
  },
  {
   "cell_type": "markdown",
   "metadata": {
    "id": "aD8XY0bx8Ujr"
   },
   "source": [
    "## 4.3) `break`\n",
    "Within a loop, the `break` command forces Python to exit the loop entirely and move on. We use it to end a loop early, usually because some \"stopping condition\" has been reached. Here is the example from the presentation:\n",
    "\n",
    "**Example**"
   ]
  },
  {
   "cell_type": "code",
   "execution_count": null,
   "metadata": {
    "colab": {
     "base_uri": "https://localhost:8080/"
    },
    "executionInfo": {
     "elapsed": 1617,
     "status": "ok",
     "timestamp": 1618737377971,
     "user": {
      "displayName": "Lichuan Li",
      "photoUrl": "",
      "userId": "15543419936374914048"
     },
     "user_tz": -480
    },
    "id": "DuMLb6z88XsT",
    "outputId": "3ac301fc-b780-4e06-8595-2201e0c9094b"
   },
   "outputs": [],
   "source": [
    "n = 0\n",
    "while True:   # loop would run forever ...\n",
    "    n += 1\n",
    "    if n == 3:\n",
    "        break  # ... but we exit the loop once 3 is reached\n",
    "    print(f\"Current n is {n}\")\n",
    "print(\"Loop completed.\")"
   ]
  },
  {
   "cell_type": "markdown",
   "metadata": {
    "id": "84POFv3e8tWT"
   },
   "source": [
    "Try solving the following question from last week with using while loop.\n",
    "\n",
    "**Exercise 10:**\n",
    "\n",
    "**You are spending the morning in the pathology lab and the pathologist introduces you to a mystical bacteria that grows in a multiplicative fashion, meaning that every hour, the number of bacteria on the dish is  5×  what was present 1 hour ago. At Hour 0, the number of bacteria on the dish is 4. How many bacteria are on the dish after 2, 3, 4 and 5 days?**"
   ]
  },
  {
   "cell_type": "code",
   "execution_count": null,
   "metadata": {
    "id": "agl0x6NU9nwb"
   },
   "outputs": [],
   "source": [
    "# Exercise 10\n"
   ]
  },
  {
   "cell_type": "markdown",
   "metadata": {
    "id": "V4JDDdzM-qQg"
   },
   "source": [
    "---\n",
    "\n",
    "## **Thanks for coming to Workshop 3! Please fill out the [feedback form](https://docs.google.com/forms/d/1hRmb6kHFihWUlJSaQVSNEyV_i-39xWkLlxytnz91610/edit?usp=sharing)**."
   ]
  }
 ],
 "metadata": {
  "colab": {
   "collapsed_sections": [],
   "name": "Worksheet_3.ipynb",
   "provenance": []
  },
  "kernelspec": {
   "display_name": "Python 3",
   "language": "python",
   "name": "python3"
  },
  "language_info": {
   "codemirror_mode": {
    "name": "ipython",
    "version": 3
   },
   "file_extension": ".py",
   "mimetype": "text/x-python",
   "name": "python",
   "nbconvert_exporter": "python",
   "pygments_lexer": "ipython3",
   "version": "3.8.5"
  }
 },
 "nbformat": 4,
 "nbformat_minor": 4
}
