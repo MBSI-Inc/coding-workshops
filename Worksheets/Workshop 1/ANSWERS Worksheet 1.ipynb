{
 "cells": [
  {
   "cell_type": "markdown",
   "metadata": {
    "id": "ND1Y1kjql1Xx"
   },
   "source": [
    "# Workshop #1 Worksheet Answers\n",
    "\n",
    "Welcome to the MBSI coding workshops! In this Jupyter Notebook, we'll be working through a number of exercises at your own pace. Please let your breakout room tutor know if you have any difficulties. Press Shift + Enter on your keyboard to move through the cells in this worksheet.\n",
    "\n",
    "---"
   ]
  },
  {
   "cell_type": "markdown",
   "metadata": {
    "id": "CxZSTbUnAjBE"
   },
   "source": [
    " # The print function and strings\n",
    "\n",
    "The `print()` function basically \"prints\" a message into your output. For example, if you were to run\n",
    "\n",
    "    print(\"XYZ\")\n",
    "\n",
    "in Python, you will get the output \n",
    "\n",
    "    XYZ\n",
    "\n",
    "The message passed into the print function is called a *string*. A *string* is basically a sequence of characters and is identified by quote marks around the characters.\n",
    "\n",
    "    \"This is a string\"\n",
    "    'This is also a string'\n",
    "\n",
    ">💡\n",
    ">Note\n",
    "> both double- and single-quotations are acceptable; however, you need to be consistent in your use. For example, `\"xyz'` is not a valid string.\n",
    "\n",
    "**Exercise 0a: In the code chunk below, run the pre-existing code: `print(\"Hello, world!\")`. You can run the code by pressing Shift + Enter on your keyboard, or by pressing the play button on the top panel of this Jupyter Notebook.**"
   ]
  },
  {
   "cell_type": "code",
   "execution_count": 1,
   "metadata": {
    "id": "YYi8oKEe8_lb"
   },
   "outputs": [
    {
     "name": "stdout",
     "output_type": "stream",
     "text": [
      "Hello, world!\n"
     ]
    }
   ],
   "source": [
    "# Exercise 0a\n",
    "print(\"Hello, world!\")"
   ]
  },
  {
   "cell_type": "markdown",
   "metadata": {
    "id": "xcNTOg8fMLdn"
   },
   "source": [
    "You should see the output `Hello, world!`. \n",
    "\n",
    "**Exercise 0b: Run the pre-existing code below. This should produce a `SyntaxError`, as there is an error in the syntax of the code. Identify the error and edit the code such that it produces the same output as above.**"
   ]
  },
  {
   "cell_type": "code",
   "execution_count": 2,
   "metadata": {
    "id": "RbZUTmUEMLdn"
   },
   "outputs": [
    {
     "name": "stdout",
     "output_type": "stream",
     "text": [
      "Hello, world!\n"
     ]
    }
   ],
   "source": [
    "# Exercise 0b\n",
    "print(\"Hello, world!\")"
   ]
  },
  {
   "cell_type": "markdown",
   "metadata": {
    "id": "Dgmp2I8K3sdI"
   },
   "source": [
    "\n",
    "**Exercise 1: In the code chunk below, write then run your own `print(\"Hello, world!\")`. The output should look identical to above.**"
   ]
  },
  {
   "cell_type": "code",
   "execution_count": 3,
   "metadata": {
    "id": "PhB4G0Jv3ryK"
   },
   "outputs": [
    {
     "name": "stdout",
     "output_type": "stream",
     "text": [
      "Hello, world!\n"
     ]
    }
   ],
   "source": [
    "# Exercise 1\n",
    "# Write your code below this line.\n",
    "print(\"Hello, world!\")"
   ]
  },
  {
   "cell_type": "markdown",
   "metadata": {
    "id": "9-M9VCd2nVJs"
   },
   "source": [
    "Congratulations! You have just written your very first Python program!\n",
    "\n",
    ">💡\n",
    ">Note\n",
    "> the hash symbol `#` indicate **comments**; Python ignores comments and doesn't run anything written on a line after a hash symbol `#`.\n",
    "\n",
    "---"
   ]
  },
  {
   "cell_type": "markdown",
   "metadata": {
    "id": "tDr5fsnCqltF"
   },
   "source": [
    "# Printing multiple times\n",
    "\n",
    "If you want to print multiple lines of text (strings), you can just write multiple print functions. For instance,\n",
    "\n",
    "    print(\"Hello, world!\")\n",
    "    print(\"I'm a student from the University of Melbourne\")\n",
    "\n",
    "gives the output:\n",
    "\n",
    "    Hello, world!\n",
    "    I'm a student from the University of Melbourne\n",
    "\n",
    "**Exercise 2: In the code chunk below, write multiple print statements that print onto multiple lines. Any text will do.**"
   ]
  },
  {
   "cell_type": "code",
   "execution_count": 4,
   "metadata": {
    "id": "P3wuFW2orEHz"
   },
   "outputs": [
    {
     "name": "stdout",
     "output_type": "stream",
     "text": [
      "This is Line 1\n",
      "This is Line 2\n",
      "This is Line 3\n"
     ]
    }
   ],
   "source": [
    "# Exercise 2\n",
    "print(\"This is Line 1\")\n",
    "print(\"This is Line 2\")\n",
    "print(\"This is Line 3\")"
   ]
  },
  {
   "cell_type": "markdown",
   "metadata": {
    "id": "HrkkstGXnw_Y"
   },
   "source": [
    "---\n",
    "# The newline character `\\n`\n",
    "\n",
    "The newline character `\\n` tells Python to start a new line when printing some text. For example, the following code:\n",
    "\n",
    "    print(\"Hello, world!\\nI'm a student from the University of Melbourne\")\n",
    "\n",
    "would produce an output that looks like:\n",
    "\n",
    "    Hello, world!\n",
    "    I'm a student from the University of Melbourne\n",
    "\n",
    ">💡\n",
    ">Note\n",
    "> this is identical to calling multiple print functions, but this time you only needed to call one print function.\n",
    "\n",
    "**Exercise 3: In the code chunk below, reproduce the same output from Exercise 2, this time using the newline character `\\n` and only one print function.**"
   ]
  },
  {
   "cell_type": "code",
   "execution_count": 5,
   "metadata": {
    "id": "SwanHY88BaW5"
   },
   "outputs": [
    {
     "name": "stdout",
     "output_type": "stream",
     "text": [
      "This is Line 1\n",
      "This is Line 2\n",
      "This is Line 3\n"
     ]
    }
   ],
   "source": [
    "# Exercise 3\n",
    "print(\"This is Line 1\\nThis is Line 2\\nThis is Line 3\")"
   ]
  },
  {
   "cell_type": "markdown",
   "metadata": {
    "id": "Myx88oHDPiVw"
   },
   "source": [
    "---\n",
    "\n",
    "# Help function\n",
    "\n",
    "The in-built `help()` function provides information for in-built Python functions.\n",
    "\n",
    "**Exercise 4: in the code chunk below, run `help(print)`**"
   ]
  },
  {
   "cell_type": "code",
   "execution_count": 6,
   "metadata": {
    "id": "4ZwVgn_KChGJ"
   },
   "outputs": [
    {
     "name": "stdout",
     "output_type": "stream",
     "text": [
      "Help on built-in function print in module builtins:\n",
      "\n",
      "print(...)\n",
      "    print(value, ..., sep=' ', end='\\n', file=sys.stdout, flush=False)\n",
      "    \n",
      "    Prints the values to a stream, or to sys.stdout by default.\n",
      "    Optional keyword arguments:\n",
      "    file:  a file-like object (stream); defaults to the current sys.stdout.\n",
      "    sep:   string inserted between values, default a space.\n",
      "    end:   string appended after the last value, default a newline.\n",
      "    flush: whether to forcibly flush the stream.\n",
      "\n"
     ]
    }
   ],
   "source": [
    "# Exercise 4\n",
    "help(print)"
   ]
  },
  {
   "cell_type": "markdown",
   "metadata": {
    "id": "J4uA8wDACwq4"
   },
   "source": [
    "---\n",
    "\n",
    "# Variables\n",
    "\n",
    "A *variable* is an object that stores information. We can name a variable using standard characters, and we use the equals sign `=` to *assign* information to a variable. For example, the code:\n",
    "\n",
    "    test_variable = \"Some text\"\n",
    "\n",
    "creates a variable called `test_variable` and assigns the information (in this case, a string) `\"Some text\"` to the variable. Note that unlike in maths, we cannot swap the left-hand and right-hand sides of the equals sign. Rather, the information we want to store is always on the right-hand side, while the variable is always on the left.\n",
    "\n",
    "Suppose now we run:\n",
    "\n",
    "    print(test_variable)\n",
    "\n",
    "we will see `Some text`\n",
    "\n",
    ">💡\n",
    ">Note\n",
    "> it is convention to name variables with lowercase letters, with words separated by underscores. You can also include numbers in your variable names, but they should not start with a number.\n",
    "\n",
    "**Exercise 5: Create a variable called `name` and assign your name to `name`. Then, print `name`.**"
   ]
  },
  {
   "cell_type": "code",
   "execution_count": 7,
   "metadata": {
    "id": "4rHwD8m68OVt"
   },
   "outputs": [
    {
     "name": "stdout",
     "output_type": "stream",
     "text": [
      "Jimmy\n"
     ]
    }
   ],
   "source": [
    "# Exercise 5\n",
    "name = \"Jimmy\"\n",
    "print(name)"
   ]
  },
  {
   "cell_type": "markdown",
   "metadata": {
    "id": "nt-ldUXgIiVN"
   },
   "source": [
    "---\n",
    "# String concatenation\n",
    "*String concatenation* is a fancy term to describe combining strings together. To combine different strings, we can use the `+` sign. For example:\n",
    "\n",
    "```\n",
    "str1 = \"break\"\n",
    "str2 = \"through\"\n",
    "print(str1 + str2)\n",
    "```\n",
    "\n",
    "would produce the following output:\n",
    "\n",
    "```\n",
    "breakthrough\n",
    "```\n",
    "\n",
    "To repeat the same string a specified number of times we can use the `*` sign, which performs multiplication in Python. For example:\n",
    "\n",
    "```\n",
    "str = \"Aussie\"\n",
    "print(str * 3)\n",
    "```\n",
    "\n",
    "would produce the following output:\n",
    "\n",
    "```\n",
    "AussieAussieAussie\n",
    "```\n",
    "\n",
    "**Exercise 6: In the code chunk below, concatenate two strings of your choice using `+`.**\n"
   ]
  },
  {
   "cell_type": "code",
   "execution_count": 8,
   "metadata": {
    "id": "ztqwj5-3Ig0L"
   },
   "outputs": [
    {
     "name": "stdout",
     "output_type": "stream",
     "text": [
      "I love Python\n"
     ]
    }
   ],
   "source": [
    "# Exercise 6\n",
    "print(\"I lov\" + \"e Python\")"
   ]
  },
  {
   "cell_type": "markdown",
   "metadata": {
    "id": "c2SnSaNjMLdq"
   },
   "source": [
    "**Exercise 7: In the code chunk below, print the string \"repeat \" 4 times using `*`. (Note that there is a space after the word repeat, so there should be a gap between each printed word)**"
   ]
  },
  {
   "cell_type": "code",
   "execution_count": 9,
   "metadata": {
    "id": "k4kOPxySMLdq"
   },
   "outputs": [
    {
     "name": "stdout",
     "output_type": "stream",
     "text": [
      "repeat repeat repeat repeat \n"
     ]
    }
   ],
   "source": [
    "# Exercise 7\n",
    "print(\"repeat \" * 4)"
   ]
  },
  {
   "cell_type": "markdown",
   "metadata": {
    "id": "99i-D1AWKFf9"
   },
   "source": [
    "---\n",
    "# Printing multiple arguments and string formatting\n",
    "\n",
    "You can pass multiple inputs (*arguments*) into the print function by separating them with commas. For instance, run the following code block and see what the output is:"
   ]
  },
  {
   "cell_type": "code",
   "execution_count": 10,
   "metadata": {
    "id": "mUetQxhrMLdq"
   },
   "outputs": [
    {
     "name": "stdout",
     "output_type": "stream",
     "text": [
      "Hello!\n",
      "My name is Elon .\n",
      " Dogecoin is my favourite cryptocurrency.\n"
     ]
    }
   ],
   "source": [
    "name = \"Elon\"\n",
    "crypto = \"Dogecoin\"\n",
    "print(\"Hello!\\nMy name is\", name, \".\\n\", crypto, \"is my favourite cryptocurrency.\")"
   ]
  },
  {
   "cell_type": "markdown",
   "metadata": {
    "id": "wuQ2rIURzoD6"
   },
   "source": [
    "\n",
    ">💡\n",
    ">Note\n",
    "> the formatting of this output is incorrect. The full stop after \"Elon\" is off by a space and the last sentence begins on the wrong indentation. This is because the print function automatically adds a space either side of each variable when used in this way.\n",
    "\n",
    "This can be overcome by using a string formatting technique, called **f-string formatting**, to produce the desired output format. Every *f-string* starts with an `f` character followed by the string you want to format. You can display the value of variables by enclosing them in curly `{}` braces within the string. For instance, run the following block of code and check that it produces the desired output:\n"
   ]
  },
  {
   "cell_type": "code",
   "execution_count": 11,
   "metadata": {
    "id": "Udh6YxAlMLdq"
   },
   "outputs": [
    {
     "name": "stdout",
     "output_type": "stream",
     "text": [
      "Hello!\n",
      "My name is Elon.\n",
      "Dogecoin is my favourite cryptocurrency.\n"
     ]
    }
   ],
   "source": [
    "name = \"Elon\"\n",
    "crypto = \"Dogecoin\"\n",
    "print(f\"Hello!\\nMy name is {name}.\\n{crypto} is my favourite cryptocurrency.\")"
   ]
  },
  {
   "cell_type": "markdown",
   "metadata": {
    "id": "B2boSYVEMLdr"
   },
   "source": [
    "**Exercise 8: In the code chunk below, create at least 2 variables containing strings of your choice. Then, try to reproduce the same output by (a) passing them directly into the print function, and (b) using f-string formatting instead.**"
   ]
  },
  {
   "cell_type": "code",
   "execution_count": 12,
   "metadata": {
    "id": "I_e3MSSuG1-B"
   },
   "outputs": [
    {
     "name": "stdout",
     "output_type": "stream",
     "text": [
      "Have a nice day\n",
      "Have a nice day\n"
     ]
    }
   ],
   "source": [
    "# Exercise 8\n",
    "x = \"Have a\"\n",
    "y = \"nice day\"\n",
    "print(x, y)\n",
    "print(f\"{x} {y}\")"
   ]
  },
  {
   "cell_type": "markdown",
   "metadata": {
    "id": "w8B5PI4nN7eL"
   },
   "source": [
    "---\n",
    "# Input function\n",
    "\n",
    "The `input()` function takes input from a user and converts it into a string. You can provide a *prompt* argument to display a message to the user when asking for their input. For instance,\n",
    "```\n",
    "pain_score = input(\"Rate your pain from 0 (no pain) to 10 (worst pain ever):\")\n",
    "```\n",
    "prompts the user to input a number and stores it as a string in the `pain_score` variable.\n",
    "\n",
    "**Exercise 9: In the block of code below, run the pre-existing code, read the prompt, type an input, and press Enter.**\n",
    "\n",
    "\n",
    "\n"
   ]
  },
  {
   "cell_type": "code",
   "execution_count": 13,
   "metadata": {
    "id": "kuxIWerfN9aT"
   },
   "outputs": [
    {
     "name": "stdin",
     "output_type": "stream",
     "text": [
      "Rate how much you enjoyed 2020 from 0 (hated it) to 10 (loved it):  0\n"
     ]
    },
    {
     "name": "stdout",
     "output_type": "stream",
     "text": [
      "You rated your 2020 experience as 0 out of 10.\n"
     ]
    }
   ],
   "source": [
    "# Exercise 9\n",
    "lockdown_rating = input(\"Rate how much you enjoyed 2020 from 0 (hated it) to 10 (loved it): \")\n",
    "print(f\"You rated your 2020 experience as {lockdown_rating} out of 10.\")"
   ]
  },
  {
   "cell_type": "markdown",
   "metadata": {
    "id": "bL-FvaZsHSlf"
   },
   "source": [
    "**Exercise 10: Write code that takes an input (with a prompt of your choice) and assign that to a variable. Then, print the variable.**"
   ]
  },
  {
   "cell_type": "code",
   "execution_count": 14,
   "metadata": {
    "id": "tnI9zNuTHxFT"
   },
   "outputs": [
    {
     "name": "stdin",
     "output_type": "stream",
     "text": [
      "What do you think of these workshops so far?  I love them\n"
     ]
    },
    {
     "name": "stdout",
     "output_type": "stream",
     "text": [
      "You said 'I love them' to the above question.\n"
     ]
    }
   ],
   "source": [
    "# Exercise 10\n",
    "response = input(\"What do you think of these workshops so far? \")\n",
    "print(f\"You said '{response}' to the above question.\")"
   ]
  },
  {
   "cell_type": "markdown",
   "metadata": {
    "id": "X5pSDSrcmtcq"
   },
   "source": [
    "**Exercise 11: Write code that takes in a user's first name and last name and then prints their full name.** \n",
    ">💡\n",
    ">Hint:\n",
    "> Create two variables, first_name and last_name."
   ]
  },
  {
   "cell_type": "code",
   "execution_count": 15,
   "metadata": {
    "id": "hWY-wjZRm5Qn"
   },
   "outputs": [
    {
     "name": "stdin",
     "output_type": "stream",
     "text": [
      "Your first name:  Dua\n",
      "Your last name:  Lipa\n"
     ]
    },
    {
     "name": "stdout",
     "output_type": "stream",
     "text": [
      "Your full name is Dua Lipa.\n"
     ]
    }
   ],
   "source": [
    "# Exercise 11\n",
    "first_name = input(\"Your first name: \")\n",
    "last_name = input(\"Your last name: \")\n",
    "print(f\"Your full name is {first_name} {last_name}.\")"
   ]
  },
  {
   "cell_type": "markdown",
   "metadata": {
    "id": "ZhtbhnfNMLds"
   },
   "source": [
    "---\n",
    "Congratulations! You have made it through the first workshop of the series! We will see you next week, where we will expand upon the basic knowledge that you have gained today."
   ]
  }
 ],
 "metadata": {
  "colab": {
   "collapsed_sections": [],
   "name": "Worksheet 1.ipynb",
   "provenance": [],
   "toc_visible": true
  },
  "kernelspec": {
   "display_name": "Python 3",
   "language": "python",
   "name": "python3"
  },
  "language_info": {
   "codemirror_mode": {
    "name": "ipython",
    "version": 3
   },
   "file_extension": ".py",
   "mimetype": "text/x-python",
   "name": "python",
   "nbconvert_exporter": "python",
   "pygments_lexer": "ipython3",
   "version": "3.8.5"
  }
 },
 "nbformat": 4,
 "nbformat_minor": 4
}
